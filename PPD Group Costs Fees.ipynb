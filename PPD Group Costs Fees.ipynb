{
 "cells": [
  {
   "cell_type": "code",
   "execution_count": 1,
   "metadata": {},
   "outputs": [],
   "source": [
    "import pandas as pd\n",
    "import json\n",
    "import requests\n",
    "import matplotlib.pyplot as plt"
   ]
  },
  {
   "cell_type": "code",
   "execution_count": 2,
   "metadata": {},
   "outputs": [],
   "source": [
    "pd.set_option(\n",
    "    'display.max_rows', 100\n",
    ")\n",
    "url =\"http://publicplansdata.org/api/\"\n",
    "focus_plans_list=['101', '110', '125', '179']\n",
    "most_improved_list=['78','108','42','146','90']\n",
    "least_improved_list=['36','107','106','35','105']\n",
    "hardest_hit_list=['163','128','129','149','30']"
   ]
  },
  {
   "cell_type": "code",
   "execution_count": 3,
   "metadata": {},
   "outputs": [],
   "source": [
    "paramsratios = {\n",
    "    \"q\": \"QDataset\",\n",
    "    \"dataset\": \"pensiongasbschedules\",\n",
    "     \"format\": \"json\"\n",
    "}\n",
    "paramsbasicplandata = {\n",
    "    \"q\": \"QDataset\",\n",
    "    \"dataset\": \"pensionplanbasics\",\n",
    "     \"format\": \"json\"\n",
    "}\n",
    "paramspenincomestatement = {\n",
    "    \"q\": \"QDataset\",\n",
    "    \"dataset\": \"pensionincomestatement\",\n",
    "     \"format\": \"json\",\n",
    "    #\"variables\": \n",
    "     #\"v\": ,\n",
    "}"
   ]
  },
  {
   "cell_type": "code",
   "execution_count": 4,
   "metadata": {},
   "outputs": [],
   "source": [
    "#create requests\n",
    "ratiosresponse = requests.get(url, params = paramsratios)\n",
    "plandataresponse = requests.get(url,params=paramsbasicplandata)\n",
    "penincomestatementresponse = requests.get(url,params=paramspenincomestatement)"
   ]
  },
  {
   "cell_type": "code",
   "execution_count": 5,
   "metadata": {},
   "outputs": [],
   "source": [
    "#create json response object\n",
    "fundedratiosdata = ratiosresponse.json()\n",
    "plandata = plandataresponse.json()\n",
    "penincomestatement = penincomestatementresponse.json()"
   ]
  },
  {
   "cell_type": "code",
   "execution_count": 6,
   "metadata": {},
   "outputs": [],
   "source": [
    "#change response object into DataFrame\n",
    "funded_ratios_full = pd.DataFrame(fundedratiosdata[1:])\n",
    "plan_data_full = pd.DataFrame(plandata[1:])\n",
    "penincomestatement_data_full = pd.DataFrame(penincomestatement[1:])"
   ]
  },
  {
   "cell_type": "code",
   "execution_count": 7,
   "metadata": {},
   "outputs": [
    {
     "data": {
      "text/plain": [
       "Index(['adjustment_MktAssets', 'BegMktAssets_net', 'contrib_EE_other',\n",
       "       'contrib_EE_PurchaseService', 'contrib_EE_regular', 'contrib_ER_other',\n",
       "       'contrib_ER_regular', 'contrib_ER_state', 'contrib_ER_tot',\n",
       "       'contrib_other', 'contrib_other_tot', 'contrib_tot', 'EEGroupID',\n",
       "       'expense_AdminExpenses', 'expense_alternatives', 'expense_COLABenefits',\n",
       "       'expense_DeathBenefits', 'expense_Depreciation',\n",
       "       'expense_DisabilityBenefits', 'expense_DROPBenefits',\n",
       "       'expense_investments', 'expense_investments_tot',\n",
       "       'expense_LumpSumBenefits', 'expense_net', 'expense_OtherBenefits',\n",
       "       'expense_OtherDeductions', 'expense_OtherInvestments',\n",
       "       'expense_other_tot', 'expense_PrivateEquity', 'expense_RealEstate',\n",
       "       'expense_refunds', 'expense_RetBenefits', 'expense_SecLendMgmtFees',\n",
       "       'expense_SecuritiesLending', 'expense_SurvivorBenefits',\n",
       "       'expense_TotBenefits', 'FairValueChange_investments',\n",
       "       'FairValueChange_RealEstate', 'FairValueChange_tot', 'FVChange_SecLend',\n",
       "       'FVChange_SecLend_UG', 'fy', 'income_alternatives', 'income_dividends',\n",
       "       'income_interest', 'income_InterestAndDividends',\n",
       "       'income_interest_dividends_tot', 'income_international', 'income_net',\n",
       "       'income_OtherAdditions', 'income_OtherInvestments',\n",
       "       'income_PrivateEquity', 'income_RealEstate', 'income_SecuritiesLending',\n",
       "       'income_SecuritiesLendingRebate', 'investments_net', 'MktAssets_net',\n",
       "       'notes_IncomeStatement', 'ppd_id', 'SecLend_tot',\n",
       "       'source_IncomeStatement', 'TierID'],\n",
       "      dtype='object')"
      ]
     },
     "execution_count": 7,
     "metadata": {},
     "output_type": "execute_result"
    }
   ],
   "source": [
    "plan_data_df=plan_data_full[['ppd_id','PlanName','StateAbbrev','PlanClosed','PlanYearClosed',]]\n",
    "penincomestatement_data_full.columns"
   ]
  },
  {
   "cell_type": "code",
   "execution_count": 8,
   "metadata": {},
   "outputs": [],
   "source": [
    "#Create DF and drop any rows with empty data\n",
    "penincomestatement_data_df=penincomestatement_data_full[['ppd_id','fy','expense_AdminExpenses','expense_investments_tot']].dropna()\n",
    "funded_ratio_df=funded_ratios_full[['ppd_id','fy','ActFundedRatio_GASB','ActFundedRatio_est','PercentReqContPaid']].dropna()"
   ]
  },
  {
   "cell_type": "code",
   "execution_count": 9,
   "metadata": {},
   "outputs": [
    {
     "data": {
      "text/plain": [
       "(3576, 4)"
      ]
     },
     "execution_count": 9,
     "metadata": {},
     "output_type": "execute_result"
    }
   ],
   "source": [
    "penincomestatement_data_df.shape"
   ]
  },
  {
   "cell_type": "code",
   "execution_count": 10,
   "metadata": {},
   "outputs": [
    {
     "ename": "NameError",
     "evalue": "name 'plan_test_data_df' is not defined",
     "output_type": "error",
     "traceback": [
      "\u001b[1;31m---------------------------------------------------------------------------\u001b[0m",
      "\u001b[1;31mNameError\u001b[0m                                 Traceback (most recent call last)",
      "\u001b[1;32m<ipython-input-10-61d0095be0bd>\u001b[0m in \u001b[0;36m<module>\u001b[1;34m\u001b[0m\n\u001b[0;32m      2\u001b[0m \u001b[0mplan_income_data_df\u001b[0m\u001b[1;33m[\u001b[0m\u001b[1;34m'expense_AdminExpenses'\u001b[0m\u001b[1;33m]\u001b[0m \u001b[1;33m=\u001b[0m \u001b[0mplan_income_data_df\u001b[0m\u001b[1;33m[\u001b[0m\u001b[1;34m'expense_AdminExpenses'\u001b[0m\u001b[1;33m]\u001b[0m\u001b[1;33m.\u001b[0m\u001b[0mastype\u001b[0m\u001b[1;33m(\u001b[0m\u001b[0mfloat\u001b[0m\u001b[1;33m)\u001b[0m\u001b[1;33m\u001b[0m\u001b[1;33m\u001b[0m\u001b[0m\n\u001b[0;32m      3\u001b[0m \u001b[0mplan_income_data_df\u001b[0m\u001b[1;33m[\u001b[0m\u001b[1;34m'expense_investments_tot'\u001b[0m\u001b[1;33m]\u001b[0m \u001b[1;33m=\u001b[0m \u001b[0mplan_income_data_df\u001b[0m\u001b[1;33m[\u001b[0m\u001b[1;34m'expense_investments_tot'\u001b[0m\u001b[1;33m]\u001b[0m\u001b[1;33m.\u001b[0m\u001b[0mastype\u001b[0m\u001b[1;33m(\u001b[0m\u001b[0mfloat\u001b[0m\u001b[1;33m)\u001b[0m\u001b[1;33m\u001b[0m\u001b[1;33m\u001b[0m\u001b[0m\n\u001b[1;32m----> 4\u001b[1;33m \u001b[0mplan_test_data_df\u001b[0m\u001b[1;33m[\u001b[0m\u001b[1;34m'ActFundedRatio_GASB'\u001b[0m\u001b[1;33m]\u001b[0m \u001b[1;33m=\u001b[0m \u001b[0mplan_test_data_df\u001b[0m\u001b[1;33m[\u001b[0m\u001b[1;34m'ActFundedRatio_GASB'\u001b[0m\u001b[1;33m]\u001b[0m\u001b[1;33m.\u001b[0m\u001b[0mastype\u001b[0m\u001b[1;33m(\u001b[0m\u001b[0mfloat\u001b[0m\u001b[1;33m)\u001b[0m\u001b[1;33m\u001b[0m\u001b[1;33m\u001b[0m\u001b[0m\n\u001b[0m\u001b[0;32m      5\u001b[0m \u001b[0mplan_test_data_df\u001b[0m\u001b[1;33m[\u001b[0m\u001b[1;34m'PercentReqContPaid'\u001b[0m\u001b[1;33m]\u001b[0m \u001b[1;33m=\u001b[0m \u001b[0mplan_test_data_df\u001b[0m\u001b[1;33m[\u001b[0m\u001b[1;34m'PercentReqContPaid'\u001b[0m\u001b[1;33m]\u001b[0m\u001b[1;33m.\u001b[0m\u001b[0mastype\u001b[0m\u001b[1;33m(\u001b[0m\u001b[0mfloat\u001b[0m\u001b[1;33m)\u001b[0m\u001b[1;33m\u001b[0m\u001b[1;33m\u001b[0m\u001b[0m\n",
      "\u001b[1;31mNameError\u001b[0m: name 'plan_test_data_df' is not defined"
     ]
    }
   ],
   "source": [
    "plan_income_data_df=pd.merge(penincomestatement_data_df,plan_data_df,how=\"inner\",on=\"ppd_id\")\n",
    "plan_income_data_df['expense_AdminExpenses'] = plan_income_data_df['expense_AdminExpenses'].astype(float)\n",
    "plan_income_data_df['expense_investments_tot'] = plan_income_data_df['expense_investments_tot'].astype(float)"
   ]
  },
  {
   "cell_type": "code",
   "execution_count": null,
   "metadata": {},
   "outputs": [],
   "source": [
    "plan_income_data_df.shape"
   ]
  },
  {
   "cell_type": "code",
   "execution_count": null,
   "metadata": {},
   "outputs": [],
   "source": [
    "focus_plans_income_data_df=plan_income_data_df[plan_income_data_df[\"ppd_id\"].isin(focus_plans_list)]\n",
    "focus_plans_income_data_df"
   ]
  },
  {
   "cell_type": "code",
   "execution_count": null,
   "metadata": {},
   "outputs": [],
   "source": [
    "plan_income_funded_data_df=pd.merge(plan_income_data_df,funded_ratio_df,how=\"inner\",left_on=[\"ppd_id\",\"fy\"],right_on=[\"ppd_id\",\"fy\"])"
   ]
  },
  {
   "cell_type": "code",
   "execution_count": null,
   "metadata": {},
   "outputs": [],
   "source": [
    "plan_income_funded_data_df.head(5)"
   ]
  },
  {
   "cell_type": "code",
   "execution_count": null,
   "metadata": {},
   "outputs": [],
   "source": [
    "plan_test_data_df['ActFundedRatio_GASB'] = plan_test_data_df['ActFundedRatio_GASB'].astype(float)\n",
    "plan_test_data_df['PercentReqContPaid'] = plan_test_data_df['PercentReqContPaid'].astype(float)"
   ]
  },
  {
   "cell_type": "code",
   "execution_count": null,
   "metadata": {},
   "outputs": [],
   "source": [
    "#Created a for loop to automatically build plots based on list of plan IDs\n",
    "#Steady Plans\n",
    "for plans in focus_plans_list:\n",
    "    plan_x=plan_income_funded_data_df[plan_income_funded_data_df[\"ppd_id\"]==plans]\n",
    "    plan_x_fundrat=plan_x[\"ActFundedRatio_GASB\"]\n",
    "    plan_x_adminexp=plan_x[\"expense_AdminExpenses\"]\n",
    "    plan_x_fy=plan_x[\"fy\"]\n",
    "    plan_x_name=plan_data_df.loc[plan_data_df['ppd_id'] == plans, 'PlanName'].iloc[0]\n",
    "    plt.title(f'{plan_x_name} Admin Fees & Funded Ratio by Year')\n",
    "    plt.ylabel(\"Admin Fees Deducted\")\n",
    "    plt.xlabel(\"Fiscal Year\")\n",
    "    plt.scatter(plan_x_fy,plan_x_adminexp,c=plan_x_fundrat, s=100)\n",
    "    plt.xticks(rotation=90)\n",
    "    plt.show()"
   ]
  },
  {
   "cell_type": "code",
   "execution_count": null,
   "metadata": {},
   "outputs": [],
   "source": []
  }
 ],
 "metadata": {
  "kernelspec": {
   "display_name": "Python 3",
   "language": "python",
   "name": "python3"
  },
  "language_info": {
   "codemirror_mode": {
    "name": "ipython",
    "version": 3
   },
   "file_extension": ".py",
   "mimetype": "text/x-python",
   "name": "python",
   "nbconvert_exporter": "python",
   "pygments_lexer": "ipython3",
   "version": "3.8.5"
  }
 },
 "nbformat": 4,
 "nbformat_minor": 4
}

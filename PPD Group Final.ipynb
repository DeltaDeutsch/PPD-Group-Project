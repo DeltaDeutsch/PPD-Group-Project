{
 "cells": [
  {
   "cell_type": "markdown",
   "metadata": {},
   "source": [
    "Project Title and Brief"
   ]
  },
  {
   "cell_type": "code",
   "execution_count": 1,
   "metadata": {},
   "outputs": [],
   "source": [
    "import pandas as pd\n",
    "import json\n",
    "import requests\n",
    "import matplotlib.pyplot as plt\n",
    "import scipy.stats as st\n",
    "import numpy as np"
   ]
  },
  {
   "cell_type": "code",
   "execution_count": 2,
   "metadata": {},
   "outputs": [],
   "source": [
    "url =\"http://publicplansdata.org/api/\""
   ]
  },
  {
   "cell_type": "markdown",
   "metadata": {},
   "source": [
    "Import API Data"
   ]
  },
  {
   "cell_type": "code",
   "execution_count": 3,
   "metadata": {
    "jupyter": {
     "source_hidden": true
    }
   },
   "outputs": [],
   "source": [
    "#Import API Data\n",
    "paramsratios = {\n",
    "    \"q\": \"QDataset\",\n",
    "    \"dataset\": \"pensiongasbschedules\",\n",
    "     \"format\": \"json\",\n",
    "    #\"variables\": \n",
    "     #\"v\": variables,\n",
    "}\n",
    "paramsbasicplandata = {\n",
    "    \"q\": \"QDataset\",\n",
    "    \"dataset\": \"pensionplanbasics\",\n",
    "     \"format\": \"json\",\n",
    "    #\"variables\": \n",
    "     #\"v\": ,\n",
    "}\n",
    "paramsbasicinvestperform = {\n",
    "    \"q\": \"QDataset\",\n",
    "    \"dataset\": \"pensioninvestmentperformancedetailed_actl\",\n",
    "     \"format\": \"json\",\n",
    "    #\"variables\": \n",
    "     #\"v\": ,\n",
    "}\n",
    "paramsinvestreturn = {\n",
    "    \"q\": \"QDataset\",\n",
    "    \"dataset\": \"pensioninvestmentreturn\",\n",
    "     \"format\": \"json\",\n",
    "    #\"variables\": \n",
    "     #\"v\": ,\n",
    "}\n",
    "paramsreturnassumptions = {\n",
    "    \"q\": \"QDataset\",\n",
    "    \"dataset\": \"pensiongasbassumptions\",\n",
    "     \"format\": \"json\",\n",
    "    #\"variables\": \n",
    "     #\"v\": ,\n",
    "}\n",
    "paramspenincomestatement = {\n",
    "    \"q\": \"QDataset\",\n",
    "    \"dataset\": \"pensionincomestatement\",\n",
    "     \"format\": \"json\",\n",
    "    #\"variables\": \n",
    "     #\"v\": ,\n",
    "}\n",
    "paramspenactliab = {\n",
    "    \"q\": \"QDataset\",\n",
    "    \"dataset\": \"pensionactuarialliabilities\",\n",
    "     \"format\": \"json\",\n",
    "    #\"variables\": \n",
    "     #\"v\": ,\n",
    "}"
   ]
  },
  {
   "cell_type": "code",
   "execution_count": 4,
   "metadata": {
    "jupyter": {
     "source_hidden": true
    }
   },
   "outputs": [],
   "source": [
    "#create requests\n",
    "ratiosresponse = requests.get(url, params = paramsratios)\n",
    "plandataresponse = requests.get(url,params=paramsbasicplandata)\n",
    "investperformresponse = requests.get(url,params=paramsbasicinvestperform)\n",
    "investreturnresponse = requests.get(url,params=paramsinvestreturn)\n",
    "returnassumptionsresponse = requests.get(url,params=paramsreturnassumptions)\n",
    "penincomestatementresponse = requests.get(url,params=paramspenincomestatement)\n",
    "penactliabresponse = requests.get(url,params=paramspenactliab)"
   ]
  },
  {
   "cell_type": "code",
   "execution_count": 5,
   "metadata": {
    "jupyter": {
     "source_hidden": true
    }
   },
   "outputs": [],
   "source": [
    "#create json response object\n",
    "fundedratiosdata = ratiosresponse.json()\n",
    "plandata = plandataresponse.json()\n",
    "investperform = investperformresponse.json()\n",
    "investreturn = investreturnresponse.json()\n",
    "returnassumptions = returnassumptionsresponse.json()\n",
    "penincomestatement=penincomestatementresponse.json()\n",
    "penactliab = penactliabresponse.json()"
   ]
  },
  {
   "cell_type": "code",
   "execution_count": 6,
   "metadata": {},
   "outputs": [],
   "source": [
    "#change response objects into DataFrames\n",
    "funded_ratios_full = pd.DataFrame(fundedratiosdata[1:])\n",
    "plan_data_full = pd.DataFrame(plandata[1:])\n",
    "investperform_data_full=pd.DataFrame(investperform[1:])\n",
    "investreturn_data_full=pd.DataFrame(investreturn[1:])\n",
    "returnassumptions_data_full=pd.DataFrame(returnassumptions[1:])\n",
    "penincomestatement_data_full=pd.DataFrame(penincomestatement[1:])\n",
    "penactliab_data_full=pd.DataFrame(penactliab[1:])"
   ]
  },
  {
   "cell_type": "markdown",
   "metadata": {},
   "source": [
    "Find Steady Group ppd_IDs. \"Steady\" plans are defined as those that had a funded ratio of 90% or higher for every year from 2001 to 2019."
   ]
  },
  {
   "cell_type": "code",
   "execution_count": 7,
   "metadata": {},
   "outputs": [],
   "source": [
    "#generate subset DFs and remove rows with empty funded ratio data\n",
    "funded_ratio_df=funded_ratios_full[['ppd_id','fy','ActFundedRatio_GASB','ActFundedRatio_est','PercentReqContPaid']].dropna()\n",
    "plan_data_df=plan_data_full[['ppd_id','PlanName','StateAbbrev','PlanClosed','PlanYearClosed',]]"
   ]
  },
  {
   "cell_type": "code",
   "execution_count": 8,
   "metadata": {},
   "outputs": [],
   "source": [
    "#merge tables to create data set with plan data and funded ratio data by year\n",
    "plan_test_data_df=pd.merge(funded_ratio_df,plan_data_df,how=\"inner\",on=\"ppd_id\")\n",
    "plan_test_data_df['ActFundedRatio_GASB'] = plan_test_data_df['ActFundedRatio_GASB'].astype(float)\n",
    "plan_test_data_df['PercentReqContPaid'] = plan_test_data_df['PercentReqContPaid'].astype(float)"
   ]
  },
  {
   "cell_type": "code",
   "execution_count": 9,
   "metadata": {},
   "outputs": [],
   "source": [
    "#Find all rows that have a funded ratio greater than or equal to 90%\n",
    "plan_data_90plus=plan_test_data_df[(plan_test_data_df['ActFundedRatio_GASB']>=.90)]"
   ]
  },
  {
   "cell_type": "code",
   "execution_count": 10,
   "metadata": {},
   "outputs": [
    {
     "data": {
      "text/plain": [
       "array(['101', '110', '117', '122', '125', '178', '179', '83'],\n",
       "      dtype=object)"
      ]
     },
     "execution_count": 10,
     "metadata": {},
     "output_type": "execute_result"
    }
   ],
   "source": [
    "#Find plans that have at least 19 rows (fiscal years) that were above 90% funded\n",
    "plan_90plus_counts=plan_data_90plus.groupby(\"ppd_id\")[\"fy\"].count()\n",
    "plan_90plus_19plus=plan_90plus_counts[plan_90plus_counts>=19]\n",
    "steady_plan_candidates=plan_90plus_19plus.index.values\n",
    "steady_plan_candidates"
   ]
  },
  {
   "cell_type": "code",
   "execution_count": 11,
   "metadata": {
    "scrolled": true
   },
   "outputs": [
    {
     "name": "stdout",
     "output_type": "stream",
     "text": [
      "101\n",
      "1970    2001\n",
      "1971    2002\n",
      "1972    2003\n",
      "1973    2004\n",
      "1974    2005\n",
      "1975    2006\n",
      "1976    2007\n",
      "1977    2008\n",
      "1978    2009\n",
      "1979    2010\n",
      "1980    2011\n",
      "1981    2012\n",
      "1982    2013\n",
      "1983    2014\n",
      "1984    2015\n",
      "1985    2016\n",
      "1986    2017\n",
      "1987    2018\n",
      "1988    2019\n",
      "1989    2020\n",
      "Name: fy, dtype: object\n",
      "110\n",
      "2140    2001\n",
      "2141    2002\n",
      "2142    2003\n",
      "2143    2004\n",
      "2144    2005\n",
      "2145    2006\n",
      "2146    2007\n",
      "2147    2008\n",
      "2148    2009\n",
      "2149    2010\n",
      "2150    2011\n",
      "2151    2012\n",
      "2152    2013\n",
      "2153    2014\n",
      "2154    2015\n",
      "2155    2016\n",
      "2156    2017\n",
      "2157    2018\n",
      "2158    2019\n",
      "Name: fy, dtype: object\n",
      "117\n",
      "2258    2001\n",
      "2259    2002\n",
      "2260    2003\n",
      "2261    2004\n",
      "2262    2005\n",
      "2263    2006\n",
      "2264    2007\n",
      "2265    2008\n",
      "2266    2009\n",
      "2267    2010\n",
      "2268    2011\n",
      "2269    2012\n",
      "2270    2013\n",
      "2271    2014\n",
      "2272    2015\n",
      "2273    2016\n",
      "2274    2017\n",
      "2275    2018\n",
      "2276    2019\n",
      "2277    2020\n",
      "Name: fy, dtype: object\n",
      "122\n",
      "2318    2001\n",
      "2319    2002\n",
      "2320    2003\n",
      "2321    2004\n",
      "2322    2005\n",
      "2323    2006\n",
      "2324    2007\n",
      "2325    2008\n",
      "2326    2009\n",
      "2327    2010\n",
      "2328    2011\n",
      "2329    2012\n",
      "2330    2013\n",
      "2331    2014\n",
      "2332    2015\n",
      "2334    2017\n",
      "2335    2018\n",
      "2336    2019\n",
      "2337    2020\n",
      "Name: fy, dtype: object\n",
      "125\n",
      "2378    2001\n",
      "2379    2002\n",
      "2380    2003\n",
      "2381    2004\n",
      "2382    2005\n",
      "2383    2006\n",
      "2384    2007\n",
      "2385    2008\n",
      "2386    2009\n",
      "2387    2010\n",
      "2388    2011\n",
      "2389    2012\n",
      "2390    2013\n",
      "2391    2014\n",
      "2392    2015\n",
      "2393    2016\n",
      "2394    2017\n",
      "2395    2018\n",
      "2396    2019\n",
      "Name: fy, dtype: object\n",
      "178\n",
      "3356    2001\n",
      "3357    2002\n",
      "3358    2003\n",
      "3359    2004\n",
      "3360    2005\n",
      "3361    2006\n",
      "3362    2007\n",
      "3363    2008\n",
      "3364    2009\n",
      "3365    2010\n",
      "3366    2011\n",
      "3368    2013\n",
      "3369    2014\n",
      "3370    2015\n",
      "3371    2016\n",
      "3372    2017\n",
      "3373    2018\n",
      "3374    2019\n",
      "3375    2020\n",
      "Name: fy, dtype: object\n",
      "179\n",
      "3376    2001\n",
      "3377    2002\n",
      "3378    2003\n",
      "3379    2004\n",
      "3380    2005\n",
      "3381    2006\n",
      "3382    2007\n",
      "3383    2008\n",
      "3384    2009\n",
      "3385    2010\n",
      "3386    2011\n",
      "3387    2012\n",
      "3388    2013\n",
      "3389    2014\n",
      "3390    2015\n",
      "3391    2016\n",
      "3392    2017\n",
      "3393    2018\n",
      "3394    2019\n",
      "Name: fy, dtype: object\n",
      "83\n",
      "1606    2001\n",
      "1607    2002\n",
      "1608    2003\n",
      "1609    2004\n",
      "1610    2005\n",
      "1611    2006\n",
      "1612    2007\n",
      "1613    2008\n",
      "1614    2009\n",
      "1615    2010\n",
      "1616    2011\n",
      "1618    2013\n",
      "1619    2014\n",
      "1620    2015\n",
      "1621    2016\n",
      "1622    2017\n",
      "1623    2018\n",
      "1624    2019\n",
      "1625    2020\n",
      "Name: fy, dtype: object\n"
     ]
    }
   ],
   "source": [
    "#Confirm that each plan has data for all years 2001-2019\n",
    "for plans in steady_plan_candidates:\n",
    "    plan_data_check=plan_data_90plus[(plan_data_90plus[\"ppd_id\"]==plans)]\n",
    "    print(plans)\n",
    "    print(plan_data_check[\"fy\"])"
   ]
  },
  {
   "cell_type": "code",
   "execution_count": 12,
   "metadata": {},
   "outputs": [],
   "source": [
    "steady_group_list=['101', '110', '125', '179']"
   ]
  },
  {
   "cell_type": "markdown",
   "metadata": {},
   "source": [
    "Find Most Improved Group ppd_IDs.  \"Most Improved\" plans are defined as those that showed the highest difference between their funded ratio in 2001 and their funded ratio in 2019."
   ]
  },
  {
   "cell_type": "code",
   "execution_count": 13,
   "metadata": {},
   "outputs": [],
   "source": [
    "#Generate subset DFs and merge to create single fy row with 2001 and 2019 funded ratio data for each plan\n",
    "plan_data_2019=plan_test_data_df[(plan_test_data_df['fy']=='2019')]\n",
    "plan_data_2019=plan_data_2019[['ppd_id','fy','ActFundedRatio_GASB','PlanName']]\n",
    "plan_data_2001=plan_test_data_df[(plan_test_data_df['fy']=='2001')]\n",
    "plan_data_2001=plan_data_2001[['ppd_id','fy','ActFundedRatio_GASB']]\n",
    "improved_plan_df = plan_data_2019.merge(plan_data_2001, how='inner', on='ppd_id', suffixes=('_2019','_2001'))\n",
    "improved_plan_df['ActFundedRatio_GASB_2001']=improved_plan_df['ActFundedRatio_GASB_2001'].astype(float)\n",
    "improved_plan_df['ActFundedRatio_GASB_2019']=improved_plan_df['ActFundedRatio_GASB_2019'].astype(float)"
   ]
  },
  {
   "cell_type": "code",
   "execution_count": 14,
   "metadata": {},
   "outputs": [
    {
     "data": {
      "text/html": [
       "<div>\n",
       "<style scoped>\n",
       "    .dataframe tbody tr th:only-of-type {\n",
       "        vertical-align: middle;\n",
       "    }\n",
       "\n",
       "    .dataframe tbody tr th {\n",
       "        vertical-align: top;\n",
       "    }\n",
       "\n",
       "    .dataframe thead th {\n",
       "        text-align: right;\n",
       "    }\n",
       "</style>\n",
       "<table border=\"1\" class=\"dataframe\">\n",
       "  <thead>\n",
       "    <tr style=\"text-align: right;\">\n",
       "      <th></th>\n",
       "      <th>ppd_id</th>\n",
       "      <th>PlanName</th>\n",
       "      <th>delta_plan</th>\n",
       "      <th>fy_2019</th>\n",
       "      <th>ActFundedRatio_GASB_2019</th>\n",
       "      <th>fy_2001</th>\n",
       "      <th>ActFundedRatio_GASB_2001</th>\n",
       "    </tr>\n",
       "  </thead>\n",
       "  <tbody>\n",
       "    <tr>\n",
       "      <th>100</th>\n",
       "      <td>124</td>\n",
       "      <td>West Virginia Teachers</td>\n",
       "      <td>0.50118</td>\n",
       "      <td>2019</td>\n",
       "      <td>0.71118</td>\n",
       "      <td>2001</td>\n",
       "      <td>0.210</td>\n",
       "    </tr>\n",
       "    <tr>\n",
       "      <th>70</th>\n",
       "      <td>90</td>\n",
       "      <td>Oklahoma Teachers</td>\n",
       "      <td>0.21000</td>\n",
       "      <td>2019</td>\n",
       "      <td>0.72400</td>\n",
       "      <td>2001</td>\n",
       "      <td>0.514</td>\n",
       "    </tr>\n",
       "    <tr>\n",
       "      <th>69</th>\n",
       "      <td>89</td>\n",
       "      <td>Oklahoma PERS</td>\n",
       "      <td>0.16000</td>\n",
       "      <td>2019</td>\n",
       "      <td>0.98600</td>\n",
       "      <td>2001</td>\n",
       "      <td>0.826</td>\n",
       "    </tr>\n",
       "    <tr>\n",
       "      <th>109</th>\n",
       "      <td>134</td>\n",
       "      <td>Oklahoma Police</td>\n",
       "      <td>0.11100</td>\n",
       "      <td>2019</td>\n",
       "      <td>1.02500</td>\n",
       "      <td>2001</td>\n",
       "      <td>0.914</td>\n",
       "    </tr>\n",
       "    <tr>\n",
       "      <th>99</th>\n",
       "      <td>123</td>\n",
       "      <td>West Virginia PERS</td>\n",
       "      <td>0.09450</td>\n",
       "      <td>2019</td>\n",
       "      <td>0.93850</td>\n",
       "      <td>2001</td>\n",
       "      <td>0.844</td>\n",
       "    </tr>\n",
       "  </tbody>\n",
       "</table>\n",
       "</div>"
      ],
      "text/plain": [
       "    ppd_id                PlanName  delta_plan fy_2019  \\\n",
       "100    124  West Virginia Teachers     0.50118    2019   \n",
       "70      90       Oklahoma Teachers     0.21000    2019   \n",
       "69      89           Oklahoma PERS     0.16000    2019   \n",
       "109    134         Oklahoma Police     0.11100    2019   \n",
       "99     123      West Virginia PERS     0.09450    2019   \n",
       "\n",
       "     ActFundedRatio_GASB_2019 fy_2001  ActFundedRatio_GASB_2001  \n",
       "100                   0.71118    2001                     0.210  \n",
       "70                    0.72400    2001                     0.514  \n",
       "69                    0.98600    2001                     0.826  \n",
       "109                   1.02500    2001                     0.914  \n",
       "99                    0.93850    2001                     0.844  "
      ]
     },
     "execution_count": 14,
     "metadata": {},
     "output_type": "execute_result"
    }
   ],
   "source": [
    "#Calculate delta between 2019 funded ratio and 2001 funded ratio\n",
    "improved_plan_df['delta_plan'] = improved_plan_df['ActFundedRatio_GASB_2019'] - improved_plan_df['ActFundedRatio_GASB_2001']\n",
    "\n",
    "#Most improved are plans with the highest delta\n",
    "most_improved = improved_plan_df.sort_values(by='delta_plan', ascending=False)\n",
    "most_improved[['ppd_id','PlanName','delta_plan','fy_2019','ActFundedRatio_GASB_2019','fy_2001','ActFundedRatio_GASB_2001']].head(5)"
   ]
  },
  {
   "cell_type": "code",
   "execution_count": 15,
   "metadata": {},
   "outputs": [],
   "source": [
    "most_improved_list=[\"124\",\"90\",\"89\",\"134\",\"123\"]"
   ]
  },
  {
   "cell_type": "markdown",
   "metadata": {},
   "source": [
    "Find Least Improved Group ppd_IDs.  \"Least Improved\" plans are defined as those that showed the smallest or negative difference between their funded ratio in 2001 and their funded ratio in 2019."
   ]
  },
  {
   "cell_type": "code",
   "execution_count": 16,
   "metadata": {
    "jupyter": {
     "source_hidden": true
    }
   },
   "outputs": [
    {
     "data": {
      "text/html": [
       "<div>\n",
       "<style scoped>\n",
       "    .dataframe tbody tr th:only-of-type {\n",
       "        vertical-align: middle;\n",
       "    }\n",
       "\n",
       "    .dataframe tbody tr th {\n",
       "        vertical-align: top;\n",
       "    }\n",
       "\n",
       "    .dataframe thead th {\n",
       "        text-align: right;\n",
       "    }\n",
       "</style>\n",
       "<table border=\"1\" class=\"dataframe\">\n",
       "  <thead>\n",
       "    <tr style=\"text-align: right;\">\n",
       "      <th></th>\n",
       "      <th>ppd_id</th>\n",
       "      <th>PlanName</th>\n",
       "      <th>delta_plan</th>\n",
       "      <th>fy_2019</th>\n",
       "      <th>ActFundedRatio_GASB_2019</th>\n",
       "      <th>fy_2001</th>\n",
       "      <th>ActFundedRatio_GASB_2001</th>\n",
       "    </tr>\n",
       "  </thead>\n",
       "  <tbody>\n",
       "    <tr>\n",
       "      <th>31</th>\n",
       "      <td>41</td>\n",
       "      <td>Kentucky ERS</td>\n",
       "      <td>-1.09300</td>\n",
       "      <td>2019</td>\n",
       "      <td>0.16500</td>\n",
       "      <td>2001</td>\n",
       "      <td>1.25800</td>\n",
       "    </tr>\n",
       "    <tr>\n",
       "      <th>98</th>\n",
       "      <td>122</td>\n",
       "      <td>Washington Teachers Plan 2/3</td>\n",
       "      <td>-1.06396</td>\n",
       "      <td>2019</td>\n",
       "      <td>0.91000</td>\n",
       "      <td>2001</td>\n",
       "      <td>1.97396</td>\n",
       "    </tr>\n",
       "    <tr>\n",
       "      <th>97</th>\n",
       "      <td>120</td>\n",
       "      <td>Washington School Employees Plan 2/3</td>\n",
       "      <td>-1.06015</td>\n",
       "      <td>2019</td>\n",
       "      <td>0.91000</td>\n",
       "      <td>2001</td>\n",
       "      <td>1.97015</td>\n",
       "    </tr>\n",
       "    <tr>\n",
       "      <th>30</th>\n",
       "      <td>40</td>\n",
       "      <td>Kentucky County</td>\n",
       "      <td>-0.92919</td>\n",
       "      <td>2019</td>\n",
       "      <td>0.48081</td>\n",
       "      <td>2001</td>\n",
       "      <td>1.41000</td>\n",
       "    </tr>\n",
       "    <tr>\n",
       "      <th>96</th>\n",
       "      <td>119</td>\n",
       "      <td>Washington PERS 2/3</td>\n",
       "      <td>-0.83143</td>\n",
       "      <td>2019</td>\n",
       "      <td>0.96000</td>\n",
       "      <td>2001</td>\n",
       "      <td>1.79143</td>\n",
       "    </tr>\n",
       "  </tbody>\n",
       "</table>\n",
       "</div>"
      ],
      "text/plain": [
       "   ppd_id                              PlanName  delta_plan fy_2019  \\\n",
       "31     41                          Kentucky ERS    -1.09300    2019   \n",
       "98    122          Washington Teachers Plan 2/3    -1.06396    2019   \n",
       "97    120  Washington School Employees Plan 2/3    -1.06015    2019   \n",
       "30     40                       Kentucky County    -0.92919    2019   \n",
       "96    119                   Washington PERS 2/3    -0.83143    2019   \n",
       "\n",
       "    ActFundedRatio_GASB_2019 fy_2001  ActFundedRatio_GASB_2001  \n",
       "31                   0.16500    2001                   1.25800  \n",
       "98                   0.91000    2001                   1.97396  \n",
       "97                   0.91000    2001                   1.97015  \n",
       "30                   0.48081    2001                   1.41000  \n",
       "96                   0.96000    2001                   1.79143  "
      ]
     },
     "execution_count": 16,
     "metadata": {},
     "output_type": "execute_result"
    }
   ],
   "source": [
    "#Least improved plans are plans with the lowest or negative delta between 2019 and 2001 funded ratios\n",
    "least_improved = improved_plan_df.sort_values(by='delta_plan', ascending=True)\n",
    "least_improved[['ppd_id','PlanName','delta_plan','fy_2019','ActFundedRatio_GASB_2019','fy_2001','ActFundedRatio_GASB_2001']].head(5)"
   ]
  },
  {
   "cell_type": "code",
   "execution_count": 17,
   "metadata": {},
   "outputs": [],
   "source": [
    "least_improved_list=[\"41\",\"122\",\"120\",\"40\",\"119\"]"
   ]
  },
  {
   "cell_type": "markdown",
   "metadata": {},
   "source": [
    "Find Hardest Hit Group ppd_IDs.  \"Hardest Hit\" plans are defined as those that showed the largest difference between their funded ratio in 2007 and their funded ratio in 2010, covering the period of the housing recession."
   ]
  },
  {
   "cell_type": "code",
   "execution_count": 18,
   "metadata": {
    "jupyter": {
     "source_hidden": true
    }
   },
   "outputs": [
    {
     "data": {
      "text/html": [
       "<div>\n",
       "<style scoped>\n",
       "    .dataframe tbody tr th:only-of-type {\n",
       "        vertical-align: middle;\n",
       "    }\n",
       "\n",
       "    .dataframe tbody tr th {\n",
       "        vertical-align: top;\n",
       "    }\n",
       "\n",
       "    .dataframe thead th {\n",
       "        text-align: right;\n",
       "    }\n",
       "</style>\n",
       "<table border=\"1\" class=\"dataframe\">\n",
       "  <thead>\n",
       "    <tr style=\"text-align: right;\">\n",
       "      <th></th>\n",
       "      <th>ppd_id</th>\n",
       "      <th>PlanName_2010</th>\n",
       "      <th>delta_plan</th>\n",
       "      <th>fy_2010</th>\n",
       "      <th>ActFundedRatio_GASB_2010</th>\n",
       "      <th>fy_2007</th>\n",
       "      <th>ActFundedRatio_GASB_2007</th>\n",
       "    </tr>\n",
       "  </thead>\n",
       "  <tbody>\n",
       "    <tr>\n",
       "      <th>163</th>\n",
       "      <td>168</td>\n",
       "      <td>Miami Fire and Police</td>\n",
       "      <td>-0.30000</td>\n",
       "      <td>2010</td>\n",
       "      <td>0.66000</td>\n",
       "      <td>2007</td>\n",
       "      <td>0.96000</td>\n",
       "    </tr>\n",
       "    <tr>\n",
       "      <th>126</th>\n",
       "      <td>130</td>\n",
       "      <td>Louisiana Municipal Police</td>\n",
       "      <td>-0.29184</td>\n",
       "      <td>2010</td>\n",
       "      <td>0.59869</td>\n",
       "      <td>2007</td>\n",
       "      <td>0.89053</td>\n",
       "    </tr>\n",
       "    <tr>\n",
       "      <th>175</th>\n",
       "      <td>184</td>\n",
       "      <td>Anchorage Police and Fire</td>\n",
       "      <td>-0.27052</td>\n",
       "      <td>2010</td>\n",
       "      <td>0.85093</td>\n",
       "      <td>2007</td>\n",
       "      <td>1.12145</td>\n",
       "    </tr>\n",
       "    <tr>\n",
       "      <th>147</th>\n",
       "      <td>151</td>\n",
       "      <td>Milwaukee City ERS</td>\n",
       "      <td>-0.26800</td>\n",
       "      <td>2010</td>\n",
       "      <td>1.04400</td>\n",
       "      <td>2007</td>\n",
       "      <td>1.31200</td>\n",
       "    </tr>\n",
       "    <tr>\n",
       "      <th>30</th>\n",
       "      <td>31</td>\n",
       "      <td>Idaho PERS</td>\n",
       "      <td>-0.26600</td>\n",
       "      <td>2010</td>\n",
       "      <td>0.78900</td>\n",
       "      <td>2007</td>\n",
       "      <td>1.05500</td>\n",
       "    </tr>\n",
       "  </tbody>\n",
       "</table>\n",
       "</div>"
      ],
      "text/plain": [
       "    ppd_id               PlanName_2010  delta_plan fy_2010  \\\n",
       "163    168       Miami Fire and Police    -0.30000    2010   \n",
       "126    130  Louisiana Municipal Police    -0.29184    2010   \n",
       "175    184   Anchorage Police and Fire    -0.27052    2010   \n",
       "147    151          Milwaukee City ERS    -0.26800    2010   \n",
       "30      31                  Idaho PERS    -0.26600    2010   \n",
       "\n",
       "     ActFundedRatio_GASB_2010 fy_2007  ActFundedRatio_GASB_2007  \n",
       "163                   0.66000    2007                   0.96000  \n",
       "126                   0.59869    2007                   0.89053  \n",
       "175                   0.85093    2007                   1.12145  \n",
       "147                   1.04400    2007                   1.31200  \n",
       "30                    0.78900    2007                   1.05500  "
      ]
     },
     "execution_count": 18,
     "metadata": {},
     "output_type": "execute_result"
    }
   ],
   "source": [
    "plan_data_2010=plan_test_data_df[(plan_test_data_df['fy']=='2010')]\n",
    "plan_data_2007=plan_test_data_df[(plan_test_data_df['fy']=='2007')]\n",
    "crash_plan_df = plan_data_2010.merge(plan_data_2007, how='left', on='ppd_id', suffixes=('_2010','_2007'))\n",
    "crash_plan_df['delta_plan'] = crash_plan_df['ActFundedRatio_GASB_2010'] - crash_plan_df['ActFundedRatio_GASB_2007']\n",
    "hardest_hit = crash_plan_df.sort_values(by='delta_plan', ascending=True)[0:5]\n",
    "hardest_hit[['ppd_id','PlanName_2010','delta_plan','fy_2010','ActFundedRatio_GASB_2010','fy_2007','ActFundedRatio_GASB_2007']]"
   ]
  },
  {
   "cell_type": "code",
   "execution_count": 19,
   "metadata": {},
   "outputs": [],
   "source": [
    "hardest_hit_list=[\"168\",\"130\",\"184\",\"151\",\"31\"]"
   ]
  },
  {
   "cell_type": "code",
   "execution_count": 20,
   "metadata": {},
   "outputs": [],
   "source": [
    "#Create dictionary of study plan ids\n",
    "study_plans_dict={\"Steady\":steady_group_list,\n",
    "                        \"Most Improved\":most_improved_list,\n",
    "                        \"Least Improved\":least_improved_list,\n",
    "                        \"Hardest Hit\":hardest_hit_list}"
   ]
  },
  {
   "cell_type": "code",
   "execution_count": 21,
   "metadata": {
    "jupyter": {
     "source_hidden": true
    }
   },
   "outputs": [
    {
     "name": "stdout",
     "output_type": "stream",
     "text": [
      "Steady: South Dakota RS, ppd_id = 101\n",
      "Steady: TN State and Teachers, ppd_id = 110\n",
      "Steady: Wisconsin RS, ppd_id = 125\n",
      "Steady: Wichita ERS, ppd_id = 179\n",
      "Most Improved: West Virginia Teachers, ppd_id = 124\n",
      "Most Improved: Oklahoma Teachers, ppd_id = 90\n",
      "Most Improved: Oklahoma PERS, ppd_id = 89\n",
      "Most Improved: Oklahoma Police, ppd_id = 134\n",
      "Most Improved: West Virginia PERS, ppd_id = 123\n",
      "Least Improved: Kentucky ERS, ppd_id = 41\n",
      "Least Improved: Washington Teachers Plan 2/3, ppd_id = 122\n",
      "Least Improved: Washington School Employees Plan 2/3, ppd_id = 120\n",
      "Least Improved: Kentucky County, ppd_id = 40\n",
      "Least Improved: Washington PERS 2/3, ppd_id = 119\n",
      "Hardest Hit: Miami Fire and Police, ppd_id = 168\n",
      "Hardest Hit: Louisiana Municipal Police, ppd_id = 130\n",
      "Hardest Hit: Anchorage Police and Fire, ppd_id = 184\n",
      "Hardest Hit: Milwaukee City ERS, ppd_id = 151\n",
      "Hardest Hit: Idaho PERS, ppd_id = 31\n"
     ]
    }
   ],
   "source": [
    "#Print Plan Names for each study group\n",
    "for key,value in study_plans_dict.items():\n",
    "    for plans in value:\n",
    "        plan_x_name=plan_data_df.loc[plan_data_df['ppd_id'] == plans, 'PlanName'].iloc[0]\n",
    "        print(f'{key}: {plan_x_name}, ppd_id = {plans}')"
   ]
  },
  {
   "cell_type": "code",
   "execution_count": 22,
   "metadata": {
    "jupyter": {
     "source_hidden": true
    }
   },
   "outputs": [
    {
     "data": {
      "image/png": "[encoded data removed]",
      "text/plain": [
       "<Figure size 432x288 with 1 Axes>"
      ]
     },
     "metadata": {
      "needs_background": "light"
     },
     "output_type": "display_data"
    },
    {
     "data": {
      "image/png": "[encoded data removed]",
      "text/plain": [
       "<Figure size 432x288 with 1 Axes>"
      ]
     },
     "metadata": {
      "needs_background": "light"
     },
     "output_type": "display_data"
    },
    {
     "data": {
      "image/png": "[encoded data removed]",
      "text/plain": [
       "<Figure size 432x288 with 1 Axes>"
      ]
     },
     "metadata": {
      "needs_background": "light"
     },
     "output_type": "display_data"
    },
    {
     "data": {
      "image/png": "[encoded data removed]",
      "text/plain": [
       "<Figure size 432x288 with 1 Axes>"
      ]
     },
     "metadata": {
      "needs_background": "light"
     },
     "output_type": "display_data"
    }
   ],
   "source": [
    "#Generate line plots of funded ratio by fiscal year for each group\n",
    "for key,value in study_plans_dict.items():\n",
    "    for plans in value:\n",
    "        plan_x=plan_test_data_df[plan_test_data_df[\"ppd_id\"]==plans]\n",
    "        plan_x_fundrat=plan_x[\"ActFundedRatio_GASB\"]\n",
    "        plan_x_contpaid=plan_x[\"PercentReqContPaid\"]\n",
    "        plan_x_fy=plan_x[\"fy\"]\n",
    "        plan_x_name=plan_data_df.loc[plan_data_df['ppd_id'] == plans, 'PlanName'].iloc[0]\n",
    "        plt.title(f'{key}: Funded Ratio by FY')\n",
    "        plt.ylabel(\"Funded Ratio\")\n",
    "        plt.xlabel(\"Fiscal Year\")\n",
    "        plt.plot(plan_x_fy,plan_x_fundrat,linewidth=\"2\",label=f'{plan_x_name}, {plans}')\n",
    "        plt.xticks(rotation=90)\n",
    "    plt.legend(loc=\"best\")\n",
    "    plt.savefig(f'plot images/all_{key}_fundrat_fy.png')\n",
    "    plt.show()"
   ]
  },
  {
   "cell_type": "markdown",
   "metadata": {},
   "source": [
    "Plot weighted averages of funded ratio by fiscal year."
   ]
  },
  {
   "cell_type": "code",
   "execution_count": null,
   "metadata": {},
   "outputs": [],
   "source": [
    "Year = ['01','02','03','04','05','06','07','08','09','10','11','12','13','14','15','16','17','18','19']\n",
    "Year = Year\n",
    "Weighted_Average_Funding_Ratio = [0.974, 0.978, 0.993, 0.995, 0.995, 0.991, 0.987, 0.979, 0.969, 0.977, 0.978, 0.976, 0.983, 0.986, 0.987, 0.988, 0.983, 0.979, 0.991]\n",
    "\n",
    "plt.plot(Year, Weighted_Average_Funding_Ratio, color = \"black\")\n",
    "plt.title('Weighted Average Funding Ratio for \"Stable\" Pension Funds 2001-19')\n",
    "plt.xlabel('Year')\n",
    "plt.ylabel('Weighted Average Funding Ratio')\n",
    "#plt.ylim([.875, 1])\n",
    "plt.ylim([.5, 1.8])\n",
    "#ax.yaxis.set_major_formatter(mtick.PercentFormatter(xmax=1, decimals=None, symbol='%', is_latex=False))\n",
    "#ax.yaxis.set_major_formatter(mtick.PercentFormatter())\n",
    "plt.show()"
   ]
  },
  {
   "cell_type": "code",
   "execution_count": null,
   "metadata": {},
   "outputs": [],
   "source": [
    "Year = Year\n",
    "Weighted_Average_Funding_Ratio = [0.68, 0.65, 0.64, 0.62, 0.62, 0.62, 0.67, 0.64, 0.59, 0.58, 0.68, 0.66, 0.69, 0.75, 0.78, 0.77, 0.80, 0.83, 0.83]\n",
    "\n",
    "\n",
    "plt.plot(Year, Weighted_Average_Funding_Ratio, color = \"black\")\n",
    "plt.title('Weighted Average Funding Ratio for \"Most Improved\" Pension Funds 2001-19')\n",
    "plt.xlabel('Year')\n",
    "plt.ylabel('Weighted Average Funding Ratio')\n",
    "plt.ylim([.50, 1.8])\n",
    "#ax.yaxis.set_major_formatter(mtick.PercentFormatter(xmax=1, decimals=None, symbol='%', is_latex=False))\n",
    "#ax.yaxis.set_major_formatter(mtick.PercentFormatter())\n",
    "plt.show()"
   ]
  },
  {
   "cell_type": "code",
   "execution_count": null,
   "metadata": {},
   "outputs": [],
   "source": [
    "Year = Year\n",
    "Weighted_Average_Funding_Ratio = [1.62, 1.44, 1.30, 1.20, 1.10, 1.04, 1.04, 1.02, 0.99, 0.96, 0.95, 0.95, 0.90, 0.82, 0.81, 0.80, 0.81, 0.82, 0.85]\n",
    "\n",
    "\n",
    "plt.plot(Year, Weighted_Average_Funding_Ratio, color = \"black\")\n",
    "plt.title('Weighted Average Funding Ratio for \"Least Improved\" Pension Funds 2001-19')\n",
    "plt.xlabel('Year')\n",
    "plt.ylabel('Weighted Average Funding Ratio')\n",
    "plt.ylim([.50, 1.8])\n",
    "#ax.yaxis.set_major_formatter(mtick.PercentFormatter(xmax=1, decimals=None, symbol='%', is_latex=False))\n",
    "#ax.yaxis.set_major_formatter(mtick.PercentFormatter())\n",
    "plt.show()"
   ]
  },
  {
   "cell_type": "code",
   "execution_count": null,
   "metadata": {},
   "outputs": [],
   "source": [
    "Year = Year\n",
    "Weighted_Average_Funding_Ratio = [1.01, 0.86, 0.74, 0.73, 0.79, 0.83, 0.89, 0.87, 0.65, 0.60, 0.58, 0.60, 0.64, 0.68, 0.70, 0.71, 0.71, 0.73, 0.73]\n",
    "\n",
    "\n",
    "plt.plot(Year, Weighted_Average_Funding_Ratio, color = \"black\")\n",
    "plt.title('Weighted Average Funding Ratio for \"Hardest Hit\" Pension Funds - affected by 2008 Global Financial Crisis')\n",
    "plt.xlabel('Year')\n",
    "plt.ylabel('Weighted Average Funding Ratio')\n",
    "plt.ylim([.50, 1.8])\n",
    "#ax.yaxis.set_major_formatter(mtick.PercentFormatter(xmax=1, decimals=None, symbol='%', is_latex=False))\n",
    "#ax.yaxis.set_major_formatter(mtick.PercentFormatter())\n",
    "plt.show()"
   ]
  },
  {
   "cell_type": "markdown",
   "metadata": {},
   "source": [
    "Our findings.  Brief intro to how we decided on the questions we chose."
   ]
  },
  {
   "cell_type": "markdown",
   "metadata": {},
   "source": [
    "#Question 2A"
   ]
  },
  {
   "cell_type": "markdown",
   "metadata": {},
   "source": [
    "No plot"
   ]
  },
  {
   "cell_type": "markdown",
   "metadata": {},
   "source": [
    "#Question 2B: Is there a relationship between the percentage of the required funding contribution made by plan sponsors each year and the funded ratio?  Are steady plan sponsors more likely to make their full required contribution?  "
   ]
  },
  {
   "cell_type": "code",
   "execution_count": null,
   "metadata": {
    "jupyter": {
     "source_hidden": true
    }
   },
   "outputs": [],
   "source": [
    "#Plot percent of required contribution paid vs funded ratio for each study group\n",
    "for key,value in study_plans_dict.items():\n",
    "    for plans in value:\n",
    "        plan_x=plan_test_data_df[plan_test_data_df[\"ppd_id\"]==plans]\n",
    "        plan_x_fundrat=plan_x[\"ActFundedRatio_GASB\"]\n",
    "        plan_x_contpaid=plan_x[\"PercentReqContPaid\"]\n",
    "        plan_x_fy=plan_x[\"fy\"]\n",
    "        plan_x_name=plan_data_df.loc[plan_data_df['ppd_id'] == plans, 'PlanName'].iloc[0]\n",
    "        plt.title(f'{key}: Req Cont vs Funded Ratio')\n",
    "        plt.ylabel(\"% Required Contribution Paid\")\n",
    "        plt.xlabel(\"Funded Ratio\")\n",
    "        plt.scatter(plan_x_fundrat,plan_x_contpaid,c=plan_x_fundrat, alpha=.85,s=100)\n",
    "        plt.xticks(rotation=90)\n",
    "    #Generate linear regression    \n",
    "    x_values = plan_test_data_df.loc[plan_test_data_df[\"ppd_id\"].isin(value),\"ActFundedRatio_GASB\"]\n",
    "    y_values = plan_test_data_df.loc[plan_test_data_df[\"ppd_id\"].isin(value),\"PercentReqContPaid\"]\n",
    "    (slope, intercept, rvalue, pvalue, stderr) = st.linregress(x_values, y_values)\n",
    "    regress_values = x_values * slope + intercept\n",
    "    line_eq = \"y = \" + str(round(slope,2)) + \"x + \" + str(round(intercept,2))\n",
    "    plt.plot(x_values,regress_values,\"r-\")\n",
    "    plt.savefig(f'plot images/all_{key}_fundrat_contpaid.png')\n",
    "    plt.show()"
   ]
  },
  {
   "cell_type": "markdown",
   "metadata": {},
   "source": [
    "Looking at the group plot data, it appears that, as we would expect, all of the Steady Group plans make 100% or more of their required contributions consistently with few outliers, while the others are more volatile.  Somewhat surprisingly, the hardest hit plans also appear to make 100% or greater of their required contribution fairly consistently."
   ]
  },
  {
   "cell_type": "code",
   "execution_count": null,
   "metadata": {
    "jupyter": {
     "source_hidden": true
    }
   },
   "outputs": [],
   "source": [
    "#Plot %required contribution versus funded ratio for individual plans\n",
    "for key,value in study_plans_dict.items():\n",
    "    for plans in value:\n",
    "        plan_x=plan_test_data_df[plan_test_data_df[\"ppd_id\"]==plans]\n",
    "        plan_x_fundrat=plan_x[\"ActFundedRatio_GASB\"]\n",
    "        plan_x_contpaid=plan_x[\"PercentReqContPaid\"]\n",
    "        plan_x_fy=plan_x[\"fy\"]\n",
    "        plan_x_name=plan_data_df.loc[plan_data_df['ppd_id'] == plans, 'PlanName'].iloc[0]\n",
    "        plt.title(f'{key}: {plan_x_name} Req Cont vs Funded Ratio')\n",
    "        plt.ylabel(\"% Required Contribution Paid\")\n",
    "        plt.xlabel(\"Funded Ratio\")\n",
    "        plt.scatter(plan_x_fundrat,plan_x_contpaid,c=plan_x_fundrat, alpha=.85, s=100)\n",
    "        plt.xticks(rotation=90)\n",
    "        x_values = plan_test_data_df.loc[plan_test_data_df[\"ppd_id\"]==plans,\"ActFundedRatio_GASB\"]\n",
    "        y_values = plan_test_data_df.loc[plan_test_data_df[\"ppd_id\"]==plans,\"PercentReqContPaid\"]\n",
    "        (slope, intercept, rvalue, pvalue, stderr) = st.linregress(x_values, y_values)\n",
    "        regress_values = x_values * slope + intercept\n",
    "        line_eq = \"y = \" + str(round(slope,2)) + \"x + \" + str(round(intercept,2))\n",
    "        plt.plot(x_values,regress_values,\"r-\")\n",
    "        plt.savefig(f'plot images/{key}_{plans}_fundrat_contpaid.png')\n",
    "        plt.show()"
   ]
  },
  {
   "cell_type": "markdown",
   "metadata": {},
   "source": [
    "Looking at the indiviudal plan plots for % funding ratio versus funded ratio gives us mor einsight into the more volatile behavior that we saw previously."
   ]
  },
  {
   "cell_type": "code",
   "execution_count": null,
   "metadata": {},
   "outputs": [],
   "source": []
  },
  {
   "cell_type": "markdown",
   "metadata": {},
   "source": [
    "#Question 2C"
   ]
  },
  {
   "cell_type": "code",
   "execution_count": null,
   "metadata": {
    "jupyter": {
     "source_hidden": true
    }
   },
   "outputs": [],
   "source": [
    "#Generate DFs from weighted average asset allocation data dictionary\n",
    "plotdata_steady = pd.DataFrame({\n",
    "    \"Steady Cash\":[0.02, 0.03, 0.05, 0.02, 0.01, 0.01, 0.01, 0.01, 0.02, 0.01, 0.01, 0.01, 0.01, 0.01, 0.01, 0.01, 0.01, 0.02, 0.02],\n",
    "    \"Domestic_Equity\":[0.51, 0.50, 0.52, 0.54, 0.56, 0.55, 0.53, 0.48, 0.49, 0.50, 0.48, 0.47, 0.46, 0.44, 0.45, 0.44, 0.40, 0.38, 0.38],\n",
    "    \"Intl_Equity\":[0.03, 0.04, 0.03, 0.04, 0.03, 0.03, 0.04, 0.04, 0.03, 0.03, 0.04, 0.03, 0.05, 0.06, 0.06, 0.05, 0.09, 0.09, 0.08],\n",
    "    \"Domestic_FI\":[0.35, 0.35, 0.32, 0.33, 0.31, 0.31, 0.31, 0.33, 0.32, 0.32, 0.32, 0.32, 0.32, 0.32, 0.33, 0.35, 0.34, 0.33, 0.33],\n",
    "    \"Hedge_Funds\":[0.01, 0.00, 0.01, 0.02, 0.02, 0.02, 0.01, 0.02, 0.03, 0.02, 0.03, 0.03, 0.04, 0.04, 0.02, 0.01, 0.02, 0.02, 0.02],\n",
    "    \"Private_Equity\":[0.03, 0.04, 0.02, 0.02, 0.02, 0.02, 0.03, 0.06, 0.05, 0.06, 0.07, 0.06, 0.06, 0.06, 0.07, 0.08, 0.08, 0.09, 0.10],\n",
    "    \"Real_Estate\":[0.03, 0.03, 0.03, 0.03, 0.04, 0.04, 0.05, 0.06, 0.04, 0.05, 0.06, 0.07, 0.07, 0.07, 0.07, 0.07, 0.06, 0.08, 0.07]    \n",
    "    },\n",
    "    index = ['01','02','03','04','05','06','07','08','09','10','11','12','13','14','15','16','17','18','19']\n",
    ")\n",
    "plotdata_least = pd.DataFrame({\n",
    "    \"Least Cash\":[0.04, 0.02, 0.03, 0.02, 0.02, 0.01, 0.01, 0.01, 0.01, 0.01, 0.03, 0.01, 0.01, 0.01, 0.01, 0.01, 0.01, 0.01, 0.01],\n",
    "    \"Domestic_Equity\":[0.43, 0.40, 0.41, 0.43, 0.35, 0.30, 0.29, 0.22, 0.20, 0.20, 0.33, 0.33, 0.34, 0.34, 0.34, 0.36, 0.37, 0.31, 0.31],\n",
    "    \"Intl_Equity\":[0.08, 0.08, 0.08, 0.10, 0.16, 0.21, 0.22, 0.21, 0.21, 0.20, 0.07, 0.05, 0.05, 0.05, 0.05, 0.05, 0.05, 0.04, 0.03],\n",
    "    \"Domestic_FI\":[0.31, 0.34, 0.33, 0.30, 0.30, 0.28, 0.27, 0.27, 0.24, 0.23, 0.20, 0.22, 0.22, 0.24, 0.23, 0.20, 0.19, 0.25, 0.24],\n",
    "    \"Hedge_Funds\":[0.00, 0.00, 0.00, 0.00, 0.00, 0.00, 0.00, 0.01, 0.01, 0.01, 0.02, 0.03, 0.03, 0.03, 0.03, 0.02, 0.01, 0.01, 0.00],\n",
    "    \"Private_Equity\":[0.10, 0.10, 0.10, 0.09, 0.11, 0.13, 0.14, 0.18, 0.18, 0.22, 0.21, 0.22, 0.21, 0.20, 0.19, 0.19, 0.18, 0.19, 0.19],\n",
    "    \"Real_Estate\":[0.05, 0.05, 0.05, 0.05, 0.05, 0.06, 0.07, 0.09, 0.12, 0.10, 0.10, 0.11, 0.11, 0.10, 0.13, 0.14, 0.15, 0.15, 0.16],\n",
    "    \"Commodities\":[0.00, 0.00, 0.00, 0.00, 0.00, 0.00, 0.00, 0.00, 0.04, 0.04, 0.04, 0.04, 0.04, 0.04, 0.04, 0.04, 0.05, 0.05, 0.06]    \n",
    "    },\n",
    "    index = ['01','02','03','04','05','06','07','08','09','10','11','12','13','14','15','16','17','18','19']\n",
    ")\n",
    "plotdata_most = pd.DataFrame({\n",
    "    \"Most Cash\":[0.03, 0.03, 0.03, 0.04, 0.02, 0.02, 0.02, 0.02, 0.01, 0.00, 0.01, 0.00, 0.01, 0.00, 0.00, 0.00, 0.00, 0.00, 0.00],\n",
    "    \"Domestic_Equity\":[0.47, 0.44, 0.46, 0.47, 0.48, 0.45, 0.45, 0.41, 0.37, 0.38, 0.39, 0.38, 0.39, 0.41, 0.40, 0.38, 0.36, 0.36, 0.36],\n",
    "    \"Intl_Equity\":[0.11, 0.14, 0.16, 0.16, 0.16, 0.18, 0.17, 0.19, 0.19, 0.19, 0.20, 0.19, 0.19, 0.21, 0.20, 0.20, 0.23, 0.22, 0.21],    \n",
    "    \"Domestic_FI\":[0.38, 0.38, 0.33, 0.31, 0.33, 0.34, 0.35, 0.34, 0.37, 0.34, 0.31, 0.29, 0.26, 0.22, 0.21, 0.22, 0.22, 0.21, 0.22],    \n",
    "    \"Hedge_Funds\":[0.00, 0.00, 0.00, 0.00, 0.00, 0.00, 0.00, 0.00, 0.03, 0.03, 0.03, 0.04, 0.03, 0.04, 0.04, 0.04, 0.04, 0.05, 0.05],    \n",
    "    \"Private_Equity\":[0.00, 0.00, 0.00, 0.00, 0.00, 0.00, 0.00, 0.03, 0.02, 0.04, 0.05, 0.06, 0.06, 0.08, 0.08, 0.08, 0.08, 0.08, 0.08],    \n",
    "    \"Real_Estate\":[0.00, 0.00, 0.00, 0.00, 0.00, 0.00, 0.00, 0.00, 0.00, 0.02, 0.01, 0.04, 0.04, 0.05, 0.05, 0.06, 0.06, 0.06, 0.06],    \n",
    "    \"Commodities\":[0.00, 0.00, 0.01, 0.01, 0.00, 0.00, 0.00, 0.00, 0.00, 0.00, 0.00, 0.00, 0.00,0.00, 0.01, 0.01, 0.01, 0.01, 0.01]   \n",
    "    },\n",
    "    index = ['01','02','03','04','05','06','07','08','09','10','11','12','13','14','15','16','17','18','19']\n",
    ")\n",
    "plotdata_hardesthit = pd.DataFrame({\n",
    "    \"Hardest Hit Cash\":[0.00, 0.00, 0.00, 0.00, 0.00, 0.00, 0.01, 0.00, 0.00, 0.00, 0.00, 0.00, 0.00, 0.00, 0.01, 0.00, 0.01, 0.01],    \n",
    "    \"Domestic_Equity\":[0.37, 0.40, 0.37, 0.36, 0.33, 0.31, 0.25, 0.27, 0.25, 0.26, 0.23, 0.25, 0.28, 0.28, 0.31, 0.31, 0.30, 0.30],\n",
    "    \"Intl_Equity\":[0.24, 0.23, 0.22, 0.22, 0.25, 0.27, 0.26, 0.26, 0.28, 0.32, 0.28, 0.29, 0.32, 0.29, 0.18, 0.23, 0.24, 0.23],\n",
    "    \"Domestic_FI\":[0.30, 0.28, 0.25, 0.25, 0.25, 0.23, 0.26, 0.26, 0.27, 0.27, 0.26, 0.24, 0.25, 0.26, 0.23, 0.26, 0.26, 0.26],\n",
    "    \"Hedge_Funds\":[0.00, 0.00, 0.00, 0.00, 0.00, 0.00, 0.00, 0.00, 0.00, 0.00, 0.00, 0.00, 0.02, 0.02, 0.03, 0.03, 0.03, 0.02],    \n",
    "    \"Private_Equity\":[0.02, 0.01, 0.01, 0.01, 0.02, 0.02, 0.04, 0.04, 0.05, 0.05, 0.06, 0.05, 0.05, 0.06, 0.06, 0.06, 0.06, 0.06],\n",
    "    \"Real_Estate\":[0.04, 0.04, 0.04, 0.05, 0.05, 0.06, 0.07, 0.07, 0.06, 0.08, 0.08, 0.07, 0.08, 0.09, 0.09, 0.09, 0.09, 0.07],    \n",
    "    \"Commodities\":[0.00, 0.00, 0.00, 0.00, 0.00, 0.00, 0.00, 0.00, 0.00, 0.00, 0.00, 0.00, 0.00, 0.00, 0.00, 0.01, 0.01, 0.02]    \n",
    "    },\n",
    "    index = ['02','03','04','05','06','07','08','09','10','11','12','13','14','15','16','17','18','19']\n",
    ")\n",
    "plotdata=[plotdata_steady,plotdata_most,plotdata_least,plotdata_hardesthit]"
   ]
  },
  {
   "cell_type": "code",
   "execution_count": null,
   "metadata": {
    "jupyter": {
     "source_hidden": true
    }
   },
   "outputs": [],
   "source": [
    "for data in plotdata:\n",
    "    data.plot(kind = 'bar', stacked=True)\n",
    "    plt.legend(bbox_to_anchor=(1.05, 1.0), loc='best')\n",
    "    plt.title('Weighted Average Asset Allocation for 2001-19')\n",
    "    plt.show()"
   ]
  },
  {
   "cell_type": "markdown",
   "metadata": {},
   "source": [
    "#Question 2D"
   ]
  },
  {
   "cell_type": "code",
   "execution_count": null,
   "metadata": {},
   "outputs": [],
   "source": [
    "#plan_data_df=investreturn_data_full[['ppd_id','fy','InvestmentReturn_1yr']]\n",
    "#gasb_plan = funded_ratios_full[['ppd_id','ActFundedRatio_GASB']]\n",
    "#part_plan = gasb_plan.merge(plan_data_df, on = 'ppd_id')\n",
    "#assumed_plan = returnassumptions_data_full[['ppd_id', 'InvestmentReturnAssumption_GASB']]\n",
    "#full_plan = assumed_plan.merge(part_plan, on = 'ppd_id')\n",
    "#full_plan = full_plan[['ppd_id','fy','InvestmentReturn_1yr','ActFundedRatio_GASB', 'InvestmentReturnAssumption_GASB']].dropna()"
   ]
  },
  {
   "cell_type": "code",
   "execution_count": null,
   "metadata": {},
   "outputs": [],
   "source": [
    "#steady_df = full_plan[(full_plan['ppd_id'] == '101') | (full_plan['ppd_id'] == '110') | (full_plan['ppd_id'] == '125') | (full_plan['ppd_id'] == '179')]\n",
    "#real_steady = steady_df.drop_duplicates(keep=False)\n",
    "#steady_df.plot.scatter('ActFundedRatio_GASB','InvestmentReturn_1yr')"
   ]
  },
  {
   "cell_type": "code",
   "execution_count": null,
   "metadata": {},
   "outputs": [],
   "source": []
  },
  {
   "cell_type": "markdown",
   "metadata": {},
   "source": [
    "#Question 2E: How do the total costs and admin fees relate to the funded ratio?  Do the steady plans get a \"better deal\" by getting charged less as a percentage of their total assets than plans that are more volatile?  In order to normalize large plans against small plans, instead of looking at simply total fees deducted, we first calculated total fees each year as a percentage of the avg total assets."
   ]
  },
  {
   "cell_type": "code",
   "execution_count": null,
   "metadata": {
    "jupyter": {
     "source_hidden": true
    }
   },
   "outputs": [],
   "source": [
    "#generate subset DFs and remove rows with empty asset or fees data\n",
    "penincomestatement_data_df=penincomestatement_data_full[['ppd_id','fy','expense_AdminExpenses','expense_investments_tot','MktAssets_net','BegMktAssets_net']].dropna()\n",
    "plan_income_data_df=pd.merge(penincomestatement_data_df,plan_data_df,how=\"inner\",on=\"ppd_id\")\n",
    "plan_income_data_df['expense_AdminExpenses'] = plan_income_data_df['expense_AdminExpenses'].astype(float)\n",
    "plan_income_data_df['expense_investments_tot'] = plan_income_data_df['expense_investments_tot'].astype(float)"
   ]
  },
  {
   "cell_type": "code",
   "execution_count": null,
   "metadata": {
    "jupyter": {
     "source_hidden": true
    }
   },
   "outputs": [],
   "source": [
    "#merge DFs to generate dataframe with funded ratio and income data\n",
    "plan_income_funded_data_df=pd.merge(plan_income_data_df,funded_ratio_df,how=\"inner\",left_on=[\"ppd_id\",\"fy\"],right_on=[\"ppd_id\",\"fy\"])\n",
    "plan_income_funded_data_df['ActFundedRatio_GASB'] = plan_income_funded_data_df['ActFundedRatio_GASB'].astype(float)\n",
    "plan_income_funded_data_df['PercentReqContPaid'] = plan_income_funded_data_df['PercentReqContPaid'].astype(float)\n",
    "plan_income_funded_data_df['MktAssets_net'] = plan_income_funded_data_df['MktAssets_net'].astype(float)\n",
    "plan_income_funded_data_df['BegMktAssets_net'] = plan_income_funded_data_df['BegMktAssets_net'].astype(float)"
   ]
  },
  {
   "cell_type": "code",
   "execution_count": null,
   "metadata": {
    "jupyter": {
     "source_hidden": true
    }
   },
   "outputs": [],
   "source": [
    "#Calulate ratio of expenses to assets and add it as an additional column in  the DF\n",
    "plan_income_funded_data_df['Avg_Assets']=(plan_income_funded_data_df['MktAssets_net']+plan_income_funded_data_df['BegMktAssets_net'])/2\n",
    "plan_income_funded_data_df['Total_absExpenses']=plan_income_funded_data_df['expense_AdminExpenses'].abs()+plan_income_funded_data_df['expense_investments_tot'].abs()\n",
    "plan_income_funded_data_df['Exp_Asset_Ratio']=plan_income_funded_data_df['Total_absExpenses']/plan_income_funded_data_df['Avg_Assets']"
   ]
  },
  {
   "cell_type": "code",
   "execution_count": null,
   "metadata": {
    "jupyter": {
     "source_hidden": true
    }
   },
   "outputs": [],
   "source": [
    "#Plot expense-asset-ratio vs funded ratio for each group\n",
    "for key,value in study_plans_dict.items():\n",
    "    for plans in value:\n",
    "        plan_x=plan_income_funded_data_df[plan_income_funded_data_df[\"ppd_id\"]==plans]\n",
    "        plan_x_exprat=plan_x[\"Exp_Asset_Ratio\"]\n",
    "        plan_x_fundrat=plan_x[\"ActFundedRatio_GASB\"]\n",
    "        plan_x_fy=plan_x[\"fy\"]\n",
    "        plan_x_name=plan_data_df.loc[plan_data_df['ppd_id'] == plans, 'PlanName'].iloc[0]\n",
    "        plt.title(f'{key}: Expense Ratio vs Funded Ratio')\n",
    "        plt.xlabel(\"Funded Ratio\")\n",
    "        plt.ylabel(\"Expense Ratio\")\n",
    "        plt.scatter(plan_x_fundrat,plan_x_exprat,c=plan_x_fundrat,s=100,alpha=.8)\n",
    "        plt.xticks(rotation=90)\n",
    "    #Generate linear regression    \n",
    "    y_values = plan_income_funded_data_df.loc[plan_income_funded_data_df[\"ppd_id\"].isin(value),\"Exp_Asset_Ratio\"]\n",
    "    x_values = plan_income_funded_data_df.loc[plan_income_funded_data_df[\"ppd_id\"].isin(value),\"ActFundedRatio_GASB\"]\n",
    "    (slope, intercept, rvalue, pvalue, stderr) = st.linregress(x_values, y_values)\n",
    "    regress_values = x_values * slope + intercept\n",
    "    line_eq = \"y = \" + str(round(slope,2)) + \"x + \" + str(round(intercept,2))\n",
    "    plt.plot(x_values,regress_values,\"r-\")\n",
    "    plt.savefig(f'plot images/all_{key}_exprat_fundrat.png')\n",
    "    plt.show()"
   ]
  },
  {
   "cell_type": "markdown",
   "metadata": {},
   "source": [
    "In general, we see that as funding ratio rises, expense ratio generally rises as well, however, the least improved plans and hardest hit plans offer some additional insights.  In both of those groups, we can see that at the point when their funded ratio was the lowest, is often when their plans were being charged the highest fees as a percentage of their total assets.  This may owe to a flat fee structure, or be a sign of mismanagement on the part of the firm that they used."
   ]
  },
  {
   "cell_type": "code",
   "execution_count": null,
   "metadata": {},
   "outputs": [],
   "source": []
  },
  {
   "cell_type": "markdown",
   "metadata": {},
   "source": [
    "#Question 2F"
   ]
  },
  {
   "cell_type": "markdown",
   "metadata": {},
   "source": [
    "No plots"
   ]
  },
  {
   "cell_type": "markdown",
   "metadata": {},
   "source": [
    "#Question 2G"
   ]
  },
  {
   "cell_type": "code",
   "execution_count": null,
   "metadata": {
    "jupyter": {
     "source_hidden": true
    }
   },
   "outputs": [],
   "source": [
    "fig = plt.figure()\n",
    "ax = fig.add_axes([0,0,1,1])\n",
    "plt.title('Investment Consultants for Steady Plans')\n",
    "Investment_Consultants = ['Callan','S. Dakota Inv. Council','SIC','Verus','NEPC','Aon']\n",
    "#x = arange(len(Investment_Consultants))\n",
    "x = Investment_Consultants\n",
    "plt.xticks(x = Investment_Consultants,rotation=30) \n",
    "Frequency_Use_by_Plans = [30,19,15,3,1,1]\n",
    "ax.bar(Investment_Consultants,Frequency_Use_by_Plans)\n",
    "ax.set_ylabel('Total Frequency for Years 2001-19')\n",
    "plt.show()"
   ]
  },
  {
   "cell_type": "code",
   "execution_count": null,
   "metadata": {
    "jupyter": {
     "source_hidden": true
    }
   },
   "outputs": [],
   "source": [
    "fig = plt.figure()\n",
    "ax = fig.add_axes([0,0,1,1])\n",
    "plt.title('Investment Consultants for Least Improved Plans')\n",
    "Investment_Consultants = ['PCA','RVK','SIC','Mercer','Wilshire', 'Watson Wyatt']\n",
    "#x = arange(len(Investment_Consultants))\n",
    "x = Investment_Consultants\n",
    "plt.xticks(x = Investment_Consultants,rotation=30) \n",
    "Frequency_Use_by_Plans = [18,8,4,4,3,1]\n",
    "ax.bar(Investment_Consultants,Frequency_Use_by_Plans)\n",
    "ax.set_ylabel('Total Frequency for Years 2001-19')\n",
    "plt.show()"
   ]
  },
  {
   "cell_type": "code",
   "execution_count": null,
   "metadata": {
    "jupyter": {
     "source_hidden": true
    }
   },
   "outputs": [],
   "source": [
    "fig = plt.figure()\n",
    "ax = fig.add_axes([0,0,1,1])\n",
    "plt.title('Investment Consultants for Most Improved Plans')\n",
    "Investment_Consultants = ['Asset Consulting Group','SIC','Summit','Gregory Group','Verus','Wurts', 'AndCo', 'Marquette', 'Bogdahn']\n",
    "#x = arange(len(Investment_Consultants))\n",
    "x = Investment_Consultants\n",
    "plt.xticks(x = Investment_Consultants,rotation=30) \n",
    "Frequency_Use_by_Plans = [18,15,12,10,7,4,3,3,1]\n",
    "ax.bar(Investment_Consultants,Frequency_Use_by_Plans)\n",
    "ax.set_ylabel('Total Frequency for Years 2001-19')\n",
    "plt.show()"
   ]
  },
  {
   "cell_type": "code",
   "execution_count": null,
   "metadata": {
    "jupyter": {
     "source_hidden": true
    }
   },
   "outputs": [],
   "source": [
    "fig = plt.figure()\n",
    "ax = fig.add_axes([0,0,1,1])\n",
    "plt.title('Investment Consultants for Hardest Hit Plans')\n",
    "Investment_Consultants = ['Callan','Milliman','Mercer','Meketa','AEW Capital','RVK', 'BNY Mellon']\n",
    "#x = arange(len(Investment_Consultants))\n",
    "x = Investment_Consultants\n",
    "plt.xticks(x = Investment_Consultants,rotation=30) \n",
    "Frequency_Use_by_Plans = [34,18,9,6,6,3,1]\n",
    "ax.bar(Investment_Consultants,Frequency_Use_by_Plans)\n",
    "ax.set_ylabel('Total Frequency for Years 2001-19')\n",
    "plt.show()"
   ]
  },
  {
   "cell_type": "code",
   "execution_count": null,
   "metadata": {},
   "outputs": [],
   "source": []
  }
 ],
 "metadata": {
  "kernelspec": {
   "display_name": "Python 3",
   "language": "python",
   "name": "python3"
  },
  "language_info": {
   "codemirror_mode": {
    "name": "ipython",
    "version": 3
   },
   "file_extension": ".py",
   "mimetype": "text/x-python",
   "name": "python",
   "nbconvert_exporter": "python",
   "pygments_lexer": "ipython3",
   "version": "3.8.5"
  }
 },
 "nbformat": 4,
 "nbformat_minor": 4
}

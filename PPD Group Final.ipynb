{
 "cells": [
  {
   "cell_type": "code",
   "execution_count": 1,
   "metadata": {},
   "outputs": [],
   "source": [
    "#Project Title and Brief"
   ]
  },
  {
   "cell_type": "code",
   "execution_count": 2,
   "metadata": {},
   "outputs": [],
   "source": [
    "import pandas as pd\n",
    "import json\n",
    "import requests\n",
    "import matplotlib.pyplot as plt\n",
    "import scipy.stats as st"
   ]
  },
  {
   "cell_type": "code",
   "execution_count": 3,
   "metadata": {},
   "outputs": [],
   "source": [
    "url =\"http://publicplansdata.org/api/\""
   ]
  },
  {
   "cell_type": "markdown",
   "metadata": {},
   "source": [
    "Import API Data"
   ]
  },
  {
   "cell_type": "code",
   "execution_count": 4,
   "metadata": {},
   "outputs": [],
   "source": [
    "#Import API Data\n",
    "paramsratios = {\n",
    "    \"q\": \"QDataset\",\n",
    "    \"dataset\": \"pensiongasbschedules\",\n",
    "     \"format\": \"json\",\n",
    "    #\"variables\": \n",
    "     #\"v\": variables,\n",
    "}\n",
    "paramsbasicplandata = {\n",
    "    \"q\": \"QDataset\",\n",
    "    \"dataset\": \"pensionplanbasics\",\n",
    "     \"format\": \"json\",\n",
    "    #\"variables\": \n",
    "     #\"v\": ,\n",
    "}\n",
    "paramsbasicinvestperform = {\n",
    "    \"q\": \"QDataset\",\n",
    "    \"dataset\": \"pensioninvestmentperformancedetailed_actl\",\n",
    "     \"format\": \"json\",\n",
    "    #\"variables\": \n",
    "     #\"v\": ,\n",
    "}\n",
    "paramsinvestreturn = {\n",
    "    \"q\": \"QDataset\",\n",
    "    \"dataset\": \"pensioninvestmentreturn\",\n",
    "     \"format\": \"json\",\n",
    "    #\"variables\": \n",
    "     #\"v\": ,\n",
    "}\n",
    "paramsreturnassumptions = {\n",
    "    \"q\": \"QDataset\",\n",
    "    \"dataset\": \"pensiongasbassumptions\",\n",
    "     \"format\": \"json\",\n",
    "    #\"variables\": \n",
    "     #\"v\": ,\n",
    "}\n",
    "paramspenincomestatement = {\n",
    "    \"q\": \"QDataset\",\n",
    "    \"dataset\": \"pensionincomestatement\",\n",
    "     \"format\": \"json\",\n",
    "    #\"variables\": \n",
    "     #\"v\": ,\n",
    "}\n",
    "paramspenactliab = {\n",
    "    \"q\": \"QDataset\",\n",
    "    \"dataset\": \"pensionactuarialliabilities\",\n",
    "     \"format\": \"json\",\n",
    "    #\"variables\": \n",
    "     #\"v\": ,\n",
    "}"
   ]
  },
  {
   "cell_type": "code",
   "execution_count": 5,
   "metadata": {},
   "outputs": [],
   "source": [
    "#create requests\n",
    "ratiosresponse = requests.get(url, params = paramsratios)\n",
    "plandataresponse = requests.get(url,params=paramsbasicplandata)\n",
    "investperformresponse = requests.get(url,params=paramsbasicinvestperform)\n",
    "investreturnresponse = requests.get(url,params=paramsinvestreturn)\n",
    "returnassumptionsresponse = requests.get(url,params=paramsreturnassumptions)\n",
    "penincomestatementresponse = requests.get(url,params=paramspenincomestatement)\n",
    "penactliabresponse = requests.get(url,params=paramspenactliab)"
   ]
  },
  {
   "cell_type": "code",
   "execution_count": 6,
   "metadata": {},
   "outputs": [],
   "source": [
    "#create json response object\n",
    "fundedratiosdata = ratiosresponse.json()\n",
    "plandata = plandataresponse.json()\n",
    "investperform = investperformresponse.json()\n",
    "investreturn = investreturnresponse.json()\n",
    "returnassumptions = returnassumptionsresponse.json()\n",
    "penincomestatement=penincomestatementresponse.json()\n",
    "penactliab = penactliabresponse.json()"
   ]
  },
  {
   "cell_type": "code",
   "execution_count": 7,
   "metadata": {},
   "outputs": [],
   "source": [
    "#change response objects into DataFrames\n",
    "funded_ratios_full = pd.DataFrame(fundedratiosdata[1:])\n",
    "plan_data_full = pd.DataFrame(plandata[1:])\n",
    "investperform_data_full=pd.DataFrame(investperform[1:])\n",
    "investreturn_data_full=pd.DataFrame(investreturn[1:])\n",
    "returnassumptions_data_full=pd.DataFrame(returnassumptions[1:])\n",
    "penincomestatement_data_full=pd.DataFrame(penincomestatement[1:])\n",
    "penactliab_data_full=pd.DataFrame(penactliab[1:])"
   ]
  },
  {
   "cell_type": "markdown",
   "metadata": {},
   "source": [
    "Find Steady Group ppd_IDs"
   ]
  },
  {
   "cell_type": "code",
   "execution_count": null,
   "metadata": {},
   "outputs": [],
   "source": []
  },
  {
   "cell_type": "markdown",
   "metadata": {},
   "source": [
    "Find Most Improved Group ppd_IDs"
   ]
  },
  {
   "cell_type": "code",
   "execution_count": null,
   "metadata": {},
   "outputs": [],
   "source": []
  },
  {
   "cell_type": "markdown",
   "metadata": {},
   "source": [
    "Find Least Improved Group ppd"
   ]
  },
  {
   "cell_type": "code",
   "execution_count": null,
   "metadata": {},
   "outputs": [],
   "source": []
  },
  {
   "cell_type": "code",
   "execution_count": null,
   "metadata": {},
   "outputs": [],
   "source": []
  },
  {
   "cell_type": "code",
   "execution_count": 9,
   "metadata": {},
   "outputs": [],
   "source": [
    "#Question 2A"
   ]
  },
  {
   "cell_type": "code",
   "execution_count": 10,
   "metadata": {},
   "outputs": [],
   "source": [
    "#Question 2B"
   ]
  },
  {
   "cell_type": "code",
   "execution_count": 11,
   "metadata": {},
   "outputs": [],
   "source": [
    "#Question 2C"
   ]
  },
  {
   "cell_type": "code",
   "execution_count": 12,
   "metadata": {},
   "outputs": [],
   "source": [
    "#Question 2D"
   ]
  },
  {
   "cell_type": "code",
   "execution_count": 13,
   "metadata": {},
   "outputs": [],
   "source": [
    "#Question 2E"
   ]
  },
  {
   "cell_type": "code",
   "execution_count": 14,
   "metadata": {},
   "outputs": [],
   "source": [
    "#Question 2F"
   ]
  },
  {
   "cell_type": "code",
   "execution_count": 15,
   "metadata": {},
   "outputs": [],
   "source": [
    "#Question 2G"
   ]
  }
 ],
 "metadata": {
  "kernelspec": {
   "display_name": "Python 3",
   "language": "python",
   "name": "python3"
  },
  "language_info": {
   "codemirror_mode": {
    "name": "ipython",
    "version": 3
   },
   "file_extension": ".py",
   "mimetype": "text/x-python",
   "name": "python",
   "nbconvert_exporter": "python",
   "pygments_lexer": "ipython3",
   "version": "3.8.5"
  }
 },
 "nbformat": 4,
 "nbformat_minor": 4
}

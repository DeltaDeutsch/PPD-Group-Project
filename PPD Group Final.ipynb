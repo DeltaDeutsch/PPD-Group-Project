{
 "cells": [
  {
   "cell_type": "markdown",
   "metadata": {},
   "source": [
    "Project Title and Brief"
   ]
  },
  {
   "cell_type": "code",
   "execution_count": 1,
   "metadata": {},
   "outputs": [],
   "source": [
    "import pandas as pd\n",
    "import json\n",
    "import requests\n",
    "import matplotlib.pyplot as plt\n",
    "import scipy.stats as st\n",
    "import numpy as np"
   ]
  },
  {
   "cell_type": "code",
   "execution_count": 2,
   "metadata": {},
   "outputs": [],
   "source": [
    "url =\"http://publicplansdata.org/api/\"\n",
    "#focus_years=[\"2001\",\"2002\",\"2003\",\"2004\",\"2005\",\"2006\",\"2007\",\"2008\",\"2009\",\"2010\",\"2011\",\"2012\",\"2013\",\"2014\",\"2015\",\"2016\",\"2017\",\"2018\",\"2019\"]"
   ]
  },
  {
   "cell_type": "markdown",
   "metadata": {},
   "source": [
    "Import API Data"
   ]
  },
  {
   "cell_type": "code",
   "execution_count": 3,
   "metadata": {
    "jupyter": {
     "source_hidden": true
    }
   },
   "outputs": [],
   "source": [
    "#Import API Data\n",
    "paramsratios = {\n",
    "    \"q\": \"QDataset\",\n",
    "    \"dataset\": \"pensiongasbschedules\",\n",
    "     \"format\": \"json\",\n",
    "    #\"variables\": \n",
    "     #\"v\": variables,\n",
    "}\n",
    "paramsbasicplandata = {\n",
    "    \"q\": \"QDataset\",\n",
    "    \"dataset\": \"pensionplanbasics\",\n",
    "     \"format\": \"json\",\n",
    "    #\"variables\": \n",
    "     #\"v\": ,\n",
    "}\n",
    "paramsbasicinvestperform = {\n",
    "    \"q\": \"QDataset\",\n",
    "    \"dataset\": \"pensioninvestmentperformancedetailed_actl\",\n",
    "     \"format\": \"json\",\n",
    "    #\"variables\": \n",
    "     #\"v\": ,\n",
    "}\n",
    "paramsinvestreturn = {\n",
    "    \"q\": \"QDataset\",\n",
    "    \"dataset\": \"pensioninvestmentreturn\",\n",
    "     \"format\": \"json\",\n",
    "    #\"variables\": \n",
    "     #\"v\": ,\n",
    "}\n",
    "paramsreturnassumptions = {\n",
    "    \"q\": \"QDataset\",\n",
    "    \"dataset\": \"pensiongasbassumptions\",\n",
    "     \"format\": \"json\",\n",
    "    #\"variables\": \n",
    "     #\"v\": ,\n",
    "}\n",
    "paramspenincomestatement = {\n",
    "    \"q\": \"QDataset\",\n",
    "    \"dataset\": \"pensionincomestatement\",\n",
    "     \"format\": \"json\",\n",
    "    #\"variables\": \n",
    "     #\"v\": ,\n",
    "}\n",
    "paramspenactliab = {\n",
    "    \"q\": \"QDataset\",\n",
    "    \"dataset\": \"pensionactuarialliabilities\",\n",
    "     \"format\": \"json\",\n",
    "    #\"variables\": \n",
    "     #\"v\": ,\n",
    "}"
   ]
  },
  {
   "cell_type": "code",
   "execution_count": 4,
   "metadata": {
    "jupyter": {
     "source_hidden": true
    }
   },
   "outputs": [],
   "source": [
    "#create requests\n",
    "ratiosresponse = requests.get(url, params = paramsratios)\n",
    "plandataresponse = requests.get(url,params=paramsbasicplandata)\n",
    "investperformresponse = requests.get(url,params=paramsbasicinvestperform)\n",
    "investreturnresponse = requests.get(url,params=paramsinvestreturn)\n",
    "returnassumptionsresponse = requests.get(url,params=paramsreturnassumptions)\n",
    "penincomestatementresponse = requests.get(url,params=paramspenincomestatement)\n",
    "penactliabresponse = requests.get(url,params=paramspenactliab)"
   ]
  },
  {
   "cell_type": "code",
   "execution_count": 5,
   "metadata": {
    "jupyter": {
     "source_hidden": true
    }
   },
   "outputs": [],
   "source": [
    "#create json response object\n",
    "fundedratiosdata = ratiosresponse.json()\n",
    "plandata = plandataresponse.json()\n",
    "investperform = investperformresponse.json()\n",
    "investreturn = investreturnresponse.json()\n",
    "returnassumptions = returnassumptionsresponse.json()\n",
    "penincomestatement=penincomestatementresponse.json()\n",
    "penactliab = penactliabresponse.json()"
   ]
  },
  {
   "cell_type": "code",
   "execution_count": 6,
   "metadata": {},
   "outputs": [],
   "source": [
    "#change response objects into DataFrames\n",
    "funded_ratios_full = pd.DataFrame(fundedratiosdata[1:])\n",
    "plan_data_full = pd.DataFrame(plandata[1:])\n",
    "investperform_data_full=pd.DataFrame(investperform[1:])\n",
    "investreturn_data_full=pd.DataFrame(investreturn[1:])\n",
    "returnassumptions_data_full=pd.DataFrame(returnassumptions[1:])\n",
    "penincomestatement_data_full=pd.DataFrame(penincomestatement[1:])\n",
    "penactliab_data_full=pd.DataFrame(penactliab[1:])"
   ]
  },
  {
   "cell_type": "markdown",
   "metadata": {},
   "source": [
    "Find Steady Group ppd_IDs"
   ]
  },
  {
   "cell_type": "code",
   "execution_count": 7,
   "metadata": {},
   "outputs": [],
   "source": [
    "#generate subset DFs and remove rows with empty funded ratio data\n",
    "funded_ratio_df=funded_ratios_full[['ppd_id','fy','ActFundedRatio_GASB','ActFundedRatio_est','PercentReqContPaid']].dropna()\n",
    "plan_data_df=plan_data_full[['ppd_id','PlanName','StateAbbrev','PlanClosed','PlanYearClosed',]]"
   ]
  },
  {
   "cell_type": "code",
   "execution_count": 8,
   "metadata": {},
   "outputs": [],
   "source": [
    "#merge tables to create data set with plan data and funded ratio data by year\n",
    "plan_test_data_df=pd.merge(funded_ratio_df,plan_data_df,how=\"inner\",on=\"ppd_id\")\n",
    "plan_test_data_df['ActFundedRatio_GASB'] = plan_test_data_df['ActFundedRatio_GASB'].astype(float)"
   ]
  },
  {
   "cell_type": "code",
   "execution_count": 9,
   "metadata": {},
   "outputs": [],
   "source": [
    "#Find all rows that have a funded ratio greater than or equal to 90%\n",
    "plan_data_90plus=plan_test_data_df[(plan_test_data_df['ActFundedRatio_GASB']>=.90)]"
   ]
  },
  {
   "cell_type": "code",
   "execution_count": 10,
   "metadata": {},
   "outputs": [
    {
     "data": {
      "text/plain": [
       "array(['101', '110', '117', '122', '125', '178', '179', '83'],\n",
       "      dtype=object)"
      ]
     },
     "execution_count": 10,
     "metadata": {},
     "output_type": "execute_result"
    }
   ],
   "source": [
    "#Find plans that have at least 19 rows (fiscal years) that were above 90% funded\n",
    "plan_90plus_counts=plan_data_90plus.groupby(\"ppd_id\")[\"fy\"].count()\n",
    "plan_90plus_19plus=plan_90plus_counts[plan_90plus_counts>=19]\n",
    "steady_plan_candidates=plan_90plus_19plus.index.values\n",
    "steady_plan_candidates"
   ]
  },
  {
   "cell_type": "code",
   "execution_count": 13,
   "metadata": {
    "collapsed": true,
    "jupyter": {
     "outputs_hidden": true
    }
   },
   "outputs": [
    {
     "name": "stdout",
     "output_type": "stream",
     "text": [
      "101\n",
      "1970    2001\n",
      "1971    2002\n",
      "1972    2003\n",
      "1973    2004\n",
      "1974    2005\n",
      "1975    2006\n",
      "1976    2007\n",
      "1977    2008\n",
      "1978    2009\n",
      "1979    2010\n",
      "1980    2011\n",
      "1981    2012\n",
      "1982    2013\n",
      "1983    2014\n",
      "1984    2015\n",
      "1985    2016\n",
      "1986    2017\n",
      "1987    2018\n",
      "1988    2019\n",
      "1989    2020\n",
      "Name: fy, dtype: object\n",
      "110\n",
      "2140    2001\n",
      "2141    2002\n",
      "2142    2003\n",
      "2143    2004\n",
      "2144    2005\n",
      "2145    2006\n",
      "2146    2007\n",
      "2147    2008\n",
      "2148    2009\n",
      "2149    2010\n",
      "2150    2011\n",
      "2151    2012\n",
      "2152    2013\n",
      "2153    2014\n",
      "2154    2015\n",
      "2155    2016\n",
      "2156    2017\n",
      "2157    2018\n",
      "2158    2019\n",
      "Name: fy, dtype: object\n",
      "117\n",
      "2258    2001\n",
      "2259    2002\n",
      "2260    2003\n",
      "2261    2004\n",
      "2262    2005\n",
      "2263    2006\n",
      "2264    2007\n",
      "2265    2008\n",
      "2266    2009\n",
      "2267    2010\n",
      "2268    2011\n",
      "2269    2012\n",
      "2270    2013\n",
      "2271    2014\n",
      "2272    2015\n",
      "2273    2016\n",
      "2274    2017\n",
      "2275    2018\n",
      "2276    2019\n",
      "2277    2020\n",
      "Name: fy, dtype: object\n",
      "122\n",
      "2318    2001\n",
      "2319    2002\n",
      "2320    2003\n",
      "2321    2004\n",
      "2322    2005\n",
      "2323    2006\n",
      "2324    2007\n",
      "2325    2008\n",
      "2326    2009\n",
      "2327    2010\n",
      "2328    2011\n",
      "2329    2012\n",
      "2330    2013\n",
      "2331    2014\n",
      "2332    2015\n",
      "2334    2017\n",
      "2335    2018\n",
      "2336    2019\n",
      "2337    2020\n",
      "Name: fy, dtype: object\n",
      "125\n",
      "2378    2001\n",
      "2379    2002\n",
      "2380    2003\n",
      "2381    2004\n",
      "2382    2005\n",
      "2383    2006\n",
      "2384    2007\n",
      "2385    2008\n",
      "2386    2009\n",
      "2387    2010\n",
      "2388    2011\n",
      "2389    2012\n",
      "2390    2013\n",
      "2391    2014\n",
      "2392    2015\n",
      "2393    2016\n",
      "2394    2017\n",
      "2395    2018\n",
      "2396    2019\n",
      "Name: fy, dtype: object\n",
      "178\n",
      "3356    2001\n",
      "3357    2002\n",
      "3358    2003\n",
      "3359    2004\n",
      "3360    2005\n",
      "3361    2006\n",
      "3362    2007\n",
      "3363    2008\n",
      "3364    2009\n",
      "3365    2010\n",
      "3366    2011\n",
      "3368    2013\n",
      "3369    2014\n",
      "3370    2015\n",
      "3371    2016\n",
      "3372    2017\n",
      "3373    2018\n",
      "3374    2019\n",
      "3375    2020\n",
      "Name: fy, dtype: object\n",
      "179\n",
      "3376    2001\n",
      "3377    2002\n",
      "3378    2003\n",
      "3379    2004\n",
      "3380    2005\n",
      "3381    2006\n",
      "3382    2007\n",
      "3383    2008\n",
      "3384    2009\n",
      "3385    2010\n",
      "3386    2011\n",
      "3387    2012\n",
      "3388    2013\n",
      "3389    2014\n",
      "3390    2015\n",
      "3391    2016\n",
      "3392    2017\n",
      "3393    2018\n",
      "3394    2019\n",
      "Name: fy, dtype: object\n",
      "83\n",
      "1606    2001\n",
      "1607    2002\n",
      "1608    2003\n",
      "1609    2004\n",
      "1610    2005\n",
      "1611    2006\n",
      "1612    2007\n",
      "1613    2008\n",
      "1614    2009\n",
      "1615    2010\n",
      "1616    2011\n",
      "1618    2013\n",
      "1619    2014\n",
      "1620    2015\n",
      "1621    2016\n",
      "1622    2017\n",
      "1623    2018\n",
      "1624    2019\n",
      "1625    2020\n",
      "Name: fy, dtype: object\n"
     ]
    }
   ],
   "source": [
    "#Confirm that each plan has data for all years 2001-2019\n",
    "for plans in steady_plan_candidates:\n",
    "    plan_data_check=plan_data_90plus[(plan_data_90plus[\"ppd_id\"]==plans)]\n",
    "    print(plans)\n",
    "    print(plan_data_check[\"fy\"])"
   ]
  },
  {
   "cell_type": "code",
   "execution_count": 28,
   "metadata": {},
   "outputs": [],
   "source": [
    "steady_group_list=['101', '110', '125', '179']"
   ]
  },
  {
   "cell_type": "markdown",
   "metadata": {},
   "source": [
    "Find Most Improved Group ppd_IDs"
   ]
  },
  {
   "cell_type": "code",
   "execution_count": null,
   "metadata": {},
   "outputs": [],
   "source": []
  },
  {
   "cell_type": "code",
   "execution_count": null,
   "metadata": {},
   "outputs": [],
   "source": []
  },
  {
   "cell_type": "code",
   "execution_count": null,
   "metadata": {},
   "outputs": [],
   "source": []
  },
  {
   "cell_type": "code",
   "execution_count": null,
   "metadata": {},
   "outputs": [],
   "source": []
  },
  {
   "cell_type": "code",
   "execution_count": null,
   "metadata": {},
   "outputs": [],
   "source": []
  },
  {
   "cell_type": "code",
   "execution_count": null,
   "metadata": {},
   "outputs": [],
   "source": []
  },
  {
   "cell_type": "markdown",
   "metadata": {},
   "source": [
    "Find Least Improved Group ppd_IDs"
   ]
  },
  {
   "cell_type": "code",
   "execution_count": null,
   "metadata": {},
   "outputs": [],
   "source": []
  },
  {
   "cell_type": "markdown",
   "metadata": {},
   "source": [
    "Find Hardest Hit Group ppd_IDs"
   ]
  },
  {
   "cell_type": "code",
   "execution_count": null,
   "metadata": {},
   "outputs": [],
   "source": []
  },
  {
   "cell_type": "code",
   "execution_count": 14,
   "metadata": {},
   "outputs": [],
   "source": [
    "#Question 2A"
   ]
  },
  {
   "cell_type": "code",
   "execution_count": 15,
   "metadata": {},
   "outputs": [],
   "source": [
    "#Question 2B"
   ]
  },
  {
   "cell_type": "code",
   "execution_count": 16,
   "metadata": {},
   "outputs": [],
   "source": [
    "#Question 2C"
   ]
  },
  {
   "cell_type": "code",
   "execution_count": 17,
   "metadata": {},
   "outputs": [],
   "source": [
    "#Question 2D"
   ]
  },
  {
   "cell_type": "code",
   "execution_count": 18,
   "metadata": {},
   "outputs": [],
   "source": [
    "#Question 2E"
   ]
  },
  {
   "cell_type": "code",
   "execution_count": 19,
   "metadata": {},
   "outputs": [],
   "source": [
    "#Question 2F"
   ]
  },
  {
   "cell_type": "code",
   "execution_count": 20,
   "metadata": {},
   "outputs": [],
   "source": [
    "#Question 2G"
   ]
  }
 ],
 "metadata": {
  "kernelspec": {
   "display_name": "Python 3",
   "language": "python",
   "name": "python3"
  },
  "language_info": {
   "codemirror_mode": {
    "name": "ipython",
    "version": 3
   },
   "file_extension": ".py",
   "mimetype": "text/x-python",
   "name": "python",
   "nbconvert_exporter": "python",
   "pygments_lexer": "ipython3",
   "version": "3.8.5"
  }
 },
 "nbformat": 4,
 "nbformat_minor": 4
}

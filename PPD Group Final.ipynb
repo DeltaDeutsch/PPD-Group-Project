{
 "cells": [
  {
   "cell_type": "markdown",
   "metadata": {},
   "source": [
    "Project Title and Brief"
   ]
  },
  {
   "cell_type": "code",
   "execution_count": 1,
   "metadata": {},
   "outputs": [],
   "source": [
    "import pandas as pd\n",
    "import json\n",
    "import requests\n",
    "import matplotlib.pyplot as plt\n",
    "import scipy.stats as st\n",
    "import numpy as np"
   ]
  },
  {
   "cell_type": "code",
   "execution_count": 2,
   "metadata": {},
   "outputs": [],
   "source": [
    "url =\"http://publicplansdata.org/api/\"\n",
    "#focus_years=[\"2001\",\"2002\",\"2003\",\"2004\",\"2005\",\"2006\",\"2007\",\"2008\",\"2009\",\"2010\",\"2011\",\"2012\",\"2013\",\"2014\",\"2015\",\"2016\",\"2017\",\"2018\",\"2019\"]"
   ]
  },
  {
   "cell_type": "markdown",
   "metadata": {},
   "source": [
    "Import API Data"
   ]
  },
  {
   "cell_type": "code",
   "execution_count": 3,
   "metadata": {
    "jupyter": {
     "source_hidden": true
    }
   },
   "outputs": [],
   "source": [
    "#Import API Data\n",
    "paramsratios = {\n",
    "    \"q\": \"QDataset\",\n",
    "    \"dataset\": \"pensiongasbschedules\",\n",
    "     \"format\": \"json\",\n",
    "    #\"variables\": \n",
    "     #\"v\": variables,\n",
    "}\n",
    "paramsbasicplandata = {\n",
    "    \"q\": \"QDataset\",\n",
    "    \"dataset\": \"pensionplanbasics\",\n",
    "     \"format\": \"json\",\n",
    "    #\"variables\": \n",
    "     #\"v\": ,\n",
    "}\n",
    "paramsbasicinvestperform = {\n",
    "    \"q\": \"QDataset\",\n",
    "    \"dataset\": \"pensioninvestmentperformancedetailed_actl\",\n",
    "     \"format\": \"json\",\n",
    "    #\"variables\": \n",
    "     #\"v\": ,\n",
    "}\n",
    "paramsinvestreturn = {\n",
    "    \"q\": \"QDataset\",\n",
    "    \"dataset\": \"pensioninvestmentreturn\",\n",
    "     \"format\": \"json\",\n",
    "    #\"variables\": \n",
    "     #\"v\": ,\n",
    "}\n",
    "paramsreturnassumptions = {\n",
    "    \"q\": \"QDataset\",\n",
    "    \"dataset\": \"pensiongasbassumptions\",\n",
    "     \"format\": \"json\",\n",
    "    #\"variables\": \n",
    "     #\"v\": ,\n",
    "}\n",
    "paramspenincomestatement = {\n",
    "    \"q\": \"QDataset\",\n",
    "    \"dataset\": \"pensionincomestatement\",\n",
    "     \"format\": \"json\",\n",
    "    #\"variables\": \n",
    "     #\"v\": ,\n",
    "}\n",
    "paramspenactliab = {\n",
    "    \"q\": \"QDataset\",\n",
    "    \"dataset\": \"pensionactuarialliabilities\",\n",
    "     \"format\": \"json\",\n",
    "    #\"variables\": \n",
    "     #\"v\": ,\n",
    "}"
   ]
  },
  {
   "cell_type": "code",
   "execution_count": 4,
   "metadata": {
    "jupyter": {
     "source_hidden": true
    }
   },
   "outputs": [],
   "source": [
    "#create requests\n",
    "ratiosresponse = requests.get(url, params = paramsratios)\n",
    "plandataresponse = requests.get(url,params=paramsbasicplandata)\n",
    "investperformresponse = requests.get(url,params=paramsbasicinvestperform)\n",
    "investreturnresponse = requests.get(url,params=paramsinvestreturn)\n",
    "returnassumptionsresponse = requests.get(url,params=paramsreturnassumptions)\n",
    "penincomestatementresponse = requests.get(url,params=paramspenincomestatement)\n",
    "penactliabresponse = requests.get(url,params=paramspenactliab)"
   ]
  },
  {
   "cell_type": "code",
   "execution_count": 5,
   "metadata": {
    "jupyter": {
     "source_hidden": true
    }
   },
   "outputs": [],
   "source": [
    "#create json response object\n",
    "fundedratiosdata = ratiosresponse.json()\n",
    "plandata = plandataresponse.json()\n",
    "investperform = investperformresponse.json()\n",
    "investreturn = investreturnresponse.json()\n",
    "returnassumptions = returnassumptionsresponse.json()\n",
    "penincomestatement=penincomestatementresponse.json()\n",
    "penactliab = penactliabresponse.json()"
   ]
  },
  {
   "cell_type": "code",
   "execution_count": 6,
   "metadata": {},
   "outputs": [],
   "source": [
    "#change response objects into DataFrames\n",
    "funded_ratios_full = pd.DataFrame(fundedratiosdata[1:])\n",
    "plan_data_full = pd.DataFrame(plandata[1:])\n",
    "investperform_data_full=pd.DataFrame(investperform[1:])\n",
    "investreturn_data_full=pd.DataFrame(investreturn[1:])\n",
    "returnassumptions_data_full=pd.DataFrame(returnassumptions[1:])\n",
    "penincomestatement_data_full=pd.DataFrame(penincomestatement[1:])\n",
    "penactliab_data_full=pd.DataFrame(penactliab[1:])"
   ]
  },
  {
   "cell_type": "markdown",
   "metadata": {},
   "source": [
    "Find Steady Group ppd_IDs. \"Steady\" plans are defined as those that had a funded ratio of 90% or higher for every year from 2001 to 2019."
   ]
  },
  {
   "cell_type": "code",
   "execution_count": 7,
   "metadata": {},
   "outputs": [],
   "source": [
    "#generate subset DFs and remove rows with empty funded ratio data\n",
    "funded_ratio_df=funded_ratios_full[['ppd_id','fy','ActFundedRatio_GASB','ActFundedRatio_est','PercentReqContPaid']].dropna()\n",
    "plan_data_df=plan_data_full[['ppd_id','PlanName','StateAbbrev','PlanClosed','PlanYearClosed',]]"
   ]
  },
  {
   "cell_type": "code",
   "execution_count": 8,
   "metadata": {},
   "outputs": [],
   "source": [
    "#merge tables to create data set with plan data and funded ratio data by year\n",
    "plan_test_data_df=pd.merge(funded_ratio_df,plan_data_df,how=\"inner\",on=\"ppd_id\")\n",
    "plan_test_data_df['ActFundedRatio_GASB'] = plan_test_data_df['ActFundedRatio_GASB'].astype(float)"
   ]
  },
  {
   "cell_type": "code",
   "execution_count": 9,
   "metadata": {},
   "outputs": [],
   "source": [
    "#Find all rows that have a funded ratio greater than or equal to 90%\n",
    "plan_data_90plus=plan_test_data_df[(plan_test_data_df['ActFundedRatio_GASB']>=.90)]"
   ]
  },
  {
   "cell_type": "code",
   "execution_count": 10,
   "metadata": {},
   "outputs": [
    {
     "data": {
      "text/plain": [
       "array(['101', '110', '117', '122', '125', '178', '179', '83'],\n",
       "      dtype=object)"
      ]
     },
     "execution_count": 10,
     "metadata": {},
     "output_type": "execute_result"
    }
   ],
   "source": [
    "#Find plans that have at least 19 rows (fiscal years) that were above 90% funded\n",
    "plan_90plus_counts=plan_data_90plus.groupby(\"ppd_id\")[\"fy\"].count()\n",
    "plan_90plus_19plus=plan_90plus_counts[plan_90plus_counts>=19]\n",
    "steady_plan_candidates=plan_90plus_19plus.index.values\n",
    "steady_plan_candidates"
   ]
  },
  {
   "cell_type": "code",
   "execution_count": 11,
   "metadata": {},
   "outputs": [
    {
     "name": "stdout",
     "output_type": "stream",
     "text": [
      "101\n",
      "1970    2001\n",
      "1971    2002\n",
      "1972    2003\n",
      "1973    2004\n",
      "1974    2005\n",
      "1975    2006\n",
      "1976    2007\n",
      "1977    2008\n",
      "1978    2009\n",
      "1979    2010\n",
      "1980    2011\n",
      "1981    2012\n",
      "1982    2013\n",
      "1983    2014\n",
      "1984    2015\n",
      "1985    2016\n",
      "1986    2017\n",
      "1987    2018\n",
      "1988    2019\n",
      "1989    2020\n",
      "Name: fy, dtype: object\n",
      "110\n",
      "2140    2001\n",
      "2141    2002\n",
      "2142    2003\n",
      "2143    2004\n",
      "2144    2005\n",
      "2145    2006\n",
      "2146    2007\n",
      "2147    2008\n",
      "2148    2009\n",
      "2149    2010\n",
      "2150    2011\n",
      "2151    2012\n",
      "2152    2013\n",
      "2153    2014\n",
      "2154    2015\n",
      "2155    2016\n",
      "2156    2017\n",
      "2157    2018\n",
      "2158    2019\n",
      "Name: fy, dtype: object\n",
      "117\n",
      "2258    2001\n",
      "2259    2002\n",
      "2260    2003\n",
      "2261    2004\n",
      "2262    2005\n",
      "2263    2006\n",
      "2264    2007\n",
      "2265    2008\n",
      "2266    2009\n",
      "2267    2010\n",
      "2268    2011\n",
      "2269    2012\n",
      "2270    2013\n",
      "2271    2014\n",
      "2272    2015\n",
      "2273    2016\n",
      "2274    2017\n",
      "2275    2018\n",
      "2276    2019\n",
      "2277    2020\n",
      "Name: fy, dtype: object\n",
      "122\n",
      "2318    2001\n",
      "2319    2002\n",
      "2320    2003\n",
      "2321    2004\n",
      "2322    2005\n",
      "2323    2006\n",
      "2324    2007\n",
      "2325    2008\n",
      "2326    2009\n",
      "2327    2010\n",
      "2328    2011\n",
      "2329    2012\n",
      "2330    2013\n",
      "2331    2014\n",
      "2332    2015\n",
      "2334    2017\n",
      "2335    2018\n",
      "2336    2019\n",
      "2337    2020\n",
      "Name: fy, dtype: object\n",
      "125\n",
      "2378    2001\n",
      "2379    2002\n",
      "2380    2003\n",
      "2381    2004\n",
      "2382    2005\n",
      "2383    2006\n",
      "2384    2007\n",
      "2385    2008\n",
      "2386    2009\n",
      "2387    2010\n",
      "2388    2011\n",
      "2389    2012\n",
      "2390    2013\n",
      "2391    2014\n",
      "2392    2015\n",
      "2393    2016\n",
      "2394    2017\n",
      "2395    2018\n",
      "2396    2019\n",
      "Name: fy, dtype: object\n",
      "178\n",
      "3356    2001\n",
      "3357    2002\n",
      "3358    2003\n",
      "3359    2004\n",
      "3360    2005\n",
      "3361    2006\n",
      "3362    2007\n",
      "3363    2008\n",
      "3364    2009\n",
      "3365    2010\n",
      "3366    2011\n",
      "3368    2013\n",
      "3369    2014\n",
      "3370    2015\n",
      "3371    2016\n",
      "3372    2017\n",
      "3373    2018\n",
      "3374    2019\n",
      "3375    2020\n",
      "Name: fy, dtype: object\n",
      "179\n",
      "3376    2001\n",
      "3377    2002\n",
      "3378    2003\n",
      "3379    2004\n",
      "3380    2005\n",
      "3381    2006\n",
      "3382    2007\n",
      "3383    2008\n",
      "3384    2009\n",
      "3385    2010\n",
      "3386    2011\n",
      "3387    2012\n",
      "3388    2013\n",
      "3389    2014\n",
      "3390    2015\n",
      "3391    2016\n",
      "3392    2017\n",
      "3393    2018\n",
      "3394    2019\n",
      "Name: fy, dtype: object\n",
      "83\n",
      "1606    2001\n",
      "1607    2002\n",
      "1608    2003\n",
      "1609    2004\n",
      "1610    2005\n",
      "1611    2006\n",
      "1612    2007\n",
      "1613    2008\n",
      "1614    2009\n",
      "1615    2010\n",
      "1616    2011\n",
      "1618    2013\n",
      "1619    2014\n",
      "1620    2015\n",
      "1621    2016\n",
      "1622    2017\n",
      "1623    2018\n",
      "1624    2019\n",
      "1625    2020\n",
      "Name: fy, dtype: object\n"
     ]
    }
   ],
   "source": [
    "#Confirm that each plan has data for all years 2001-2019\n",
    "for plans in steady_plan_candidates:\n",
    "    plan_data_check=plan_data_90plus[(plan_data_90plus[\"ppd_id\"]==plans)]\n",
    "    print(plans)\n",
    "    print(plan_data_check[\"fy\"])"
   ]
  },
  {
   "cell_type": "code",
   "execution_count": 12,
   "metadata": {},
   "outputs": [],
   "source": [
    "steady_group_list=['101', '110', '125', '179']"
   ]
  },
  {
   "cell_type": "markdown",
   "metadata": {},
   "source": [
    "Find Most Improved Group ppd_IDs.  \"Most Improved\" plans are defined as those that showed the highest difference between their funded ratio in 2001 and their funded ratio in 2019."
   ]
  },
  {
   "cell_type": "code",
   "execution_count": 13,
   "metadata": {},
   "outputs": [],
   "source": [
    "#Generate subset DFs and merge to create single fy row with 2001 and 2019 funded ratio data for each plan\n",
    "plan_data_2019=plan_test_data_df[(plan_test_data_df['fy']=='2019')]\n",
    "plan_data_2019=plan_data_2019[['ppd_id','fy','ActFundedRatio_GASB','PlanName']]\n",
    "plan_data_2001=plan_test_data_df[(plan_test_data_df['fy']=='2001')]\n",
    "plan_data_2001=plan_data_2001[['ppd_id','fy','ActFundedRatio_GASB']]\n",
    "improved_plan_df = plan_data_2019.merge(plan_data_2001, how='inner', on='ppd_id', suffixes=('_2019','_2001'))\n",
    "improved_plan_df['ActFundedRatio_GASB_2001']=improved_plan_df['ActFundedRatio_GASB_2001'].astype(float)\n",
    "improved_plan_df['ActFundedRatio_GASB_2019']=improved_plan_df['ActFundedRatio_GASB_2019'].astype(float)"
   ]
  },
  {
   "cell_type": "code",
   "execution_count": 14,
   "metadata": {},
   "outputs": [
    {
     "data": {
      "text/html": [
       "<div>\n",
       "<style scoped>\n",
       "    .dataframe tbody tr th:only-of-type {\n",
       "        vertical-align: middle;\n",
       "    }\n",
       "\n",
       "    .dataframe tbody tr th {\n",
       "        vertical-align: top;\n",
       "    }\n",
       "\n",
       "    .dataframe thead th {\n",
       "        text-align: right;\n",
       "    }\n",
       "</style>\n",
       "<table border=\"1\" class=\"dataframe\">\n",
       "  <thead>\n",
       "    <tr style=\"text-align: right;\">\n",
       "      <th></th>\n",
       "      <th>ppd_id</th>\n",
       "      <th>PlanName</th>\n",
       "      <th>delta_plan</th>\n",
       "      <th>fy_2019</th>\n",
       "      <th>ActFundedRatio_GASB_2019</th>\n",
       "      <th>fy_2001</th>\n",
       "      <th>ActFundedRatio_GASB_2001</th>\n",
       "    </tr>\n",
       "  </thead>\n",
       "  <tbody>\n",
       "    <tr>\n",
       "      <th>100</th>\n",
       "      <td>124</td>\n",
       "      <td>West Virginia Teachers</td>\n",
       "      <td>0.50118</td>\n",
       "      <td>2019</td>\n",
       "      <td>0.71118</td>\n",
       "      <td>2001</td>\n",
       "      <td>0.210</td>\n",
       "    </tr>\n",
       "    <tr>\n",
       "      <th>70</th>\n",
       "      <td>90</td>\n",
       "      <td>Oklahoma Teachers</td>\n",
       "      <td>0.21000</td>\n",
       "      <td>2019</td>\n",
       "      <td>0.72400</td>\n",
       "      <td>2001</td>\n",
       "      <td>0.514</td>\n",
       "    </tr>\n",
       "    <tr>\n",
       "      <th>69</th>\n",
       "      <td>89</td>\n",
       "      <td>Oklahoma PERS</td>\n",
       "      <td>0.16000</td>\n",
       "      <td>2019</td>\n",
       "      <td>0.98600</td>\n",
       "      <td>2001</td>\n",
       "      <td>0.826</td>\n",
       "    </tr>\n",
       "    <tr>\n",
       "      <th>109</th>\n",
       "      <td>134</td>\n",
       "      <td>Oklahoma Police</td>\n",
       "      <td>0.11100</td>\n",
       "      <td>2019</td>\n",
       "      <td>1.02500</td>\n",
       "      <td>2001</td>\n",
       "      <td>0.914</td>\n",
       "    </tr>\n",
       "    <tr>\n",
       "      <th>99</th>\n",
       "      <td>123</td>\n",
       "      <td>West Virginia PERS</td>\n",
       "      <td>0.09450</td>\n",
       "      <td>2019</td>\n",
       "      <td>0.93850</td>\n",
       "      <td>2001</td>\n",
       "      <td>0.844</td>\n",
       "    </tr>\n",
       "  </tbody>\n",
       "</table>\n",
       "</div>"
      ],
      "text/plain": [
       "    ppd_id                PlanName  delta_plan fy_2019  \\\n",
       "100    124  West Virginia Teachers     0.50118    2019   \n",
       "70      90       Oklahoma Teachers     0.21000    2019   \n",
       "69      89           Oklahoma PERS     0.16000    2019   \n",
       "109    134         Oklahoma Police     0.11100    2019   \n",
       "99     123      West Virginia PERS     0.09450    2019   \n",
       "\n",
       "     ActFundedRatio_GASB_2019 fy_2001  ActFundedRatio_GASB_2001  \n",
       "100                   0.71118    2001                     0.210  \n",
       "70                    0.72400    2001                     0.514  \n",
       "69                    0.98600    2001                     0.826  \n",
       "109                   1.02500    2001                     0.914  \n",
       "99                    0.93850    2001                     0.844  "
      ]
     },
     "execution_count": 14,
     "metadata": {},
     "output_type": "execute_result"
    }
   ],
   "source": [
    "#Calculate delta between 2019 funded ratio and 2001 funded ratio\n",
    "improved_plan_df['delta_plan'] = improved_plan_df['ActFundedRatio_GASB_2019'] - improved_plan_df['ActFundedRatio_GASB_2001']\n",
    "\n",
    "#Most improved are plans with the highest delta\n",
    "most_improved = improved_plan_df.sort_values(by='delta_plan', ascending=False)\n",
    "most_improved[['ppd_id','PlanName','delta_plan','fy_2019','ActFundedRatio_GASB_2019','fy_2001','ActFundedRatio_GASB_2001']].head(5)"
   ]
  },
  {
   "cell_type": "code",
   "execution_count": 15,
   "metadata": {},
   "outputs": [],
   "source": [
    "most_improved_list=[\"124\",\"90\",\"89\",\"134\",\"123\"]"
   ]
  },
  {
   "cell_type": "markdown",
   "metadata": {},
   "source": [
    "Find Least Improved Group ppd_IDs.  \"Least Improved\" plans are defined as those that showed the smallest or negative difference between their funded ratio in 2001 and their funded ratio in 2019."
   ]
  },
  {
   "cell_type": "code",
   "execution_count": 16,
   "metadata": {},
   "outputs": [
    {
     "data": {
      "text/html": [
       "<div>\n",
       "<style scoped>\n",
       "    .dataframe tbody tr th:only-of-type {\n",
       "        vertical-align: middle;\n",
       "    }\n",
       "\n",
       "    .dataframe tbody tr th {\n",
       "        vertical-align: top;\n",
       "    }\n",
       "\n",
       "    .dataframe thead th {\n",
       "        text-align: right;\n",
       "    }\n",
       "</style>\n",
       "<table border=\"1\" class=\"dataframe\">\n",
       "  <thead>\n",
       "    <tr style=\"text-align: right;\">\n",
       "      <th></th>\n",
       "      <th>ppd_id</th>\n",
       "      <th>PlanName</th>\n",
       "      <th>delta_plan</th>\n",
       "      <th>fy_2019</th>\n",
       "      <th>ActFundedRatio_GASB_2019</th>\n",
       "      <th>fy_2001</th>\n",
       "      <th>ActFundedRatio_GASB_2001</th>\n",
       "    </tr>\n",
       "  </thead>\n",
       "  <tbody>\n",
       "    <tr>\n",
       "      <th>31</th>\n",
       "      <td>41</td>\n",
       "      <td>Kentucky ERS</td>\n",
       "      <td>-1.09300</td>\n",
       "      <td>2019</td>\n",
       "      <td>0.16500</td>\n",
       "      <td>2001</td>\n",
       "      <td>1.25800</td>\n",
       "    </tr>\n",
       "    <tr>\n",
       "      <th>98</th>\n",
       "      <td>122</td>\n",
       "      <td>Washington Teachers Plan 2/3</td>\n",
       "      <td>-1.06396</td>\n",
       "      <td>2019</td>\n",
       "      <td>0.91000</td>\n",
       "      <td>2001</td>\n",
       "      <td>1.97396</td>\n",
       "    </tr>\n",
       "    <tr>\n",
       "      <th>97</th>\n",
       "      <td>120</td>\n",
       "      <td>Washington School Employees Plan 2/3</td>\n",
       "      <td>-1.06015</td>\n",
       "      <td>2019</td>\n",
       "      <td>0.91000</td>\n",
       "      <td>2001</td>\n",
       "      <td>1.97015</td>\n",
       "    </tr>\n",
       "    <tr>\n",
       "      <th>30</th>\n",
       "      <td>40</td>\n",
       "      <td>Kentucky County</td>\n",
       "      <td>-0.92919</td>\n",
       "      <td>2019</td>\n",
       "      <td>0.48081</td>\n",
       "      <td>2001</td>\n",
       "      <td>1.41000</td>\n",
       "    </tr>\n",
       "    <tr>\n",
       "      <th>96</th>\n",
       "      <td>119</td>\n",
       "      <td>Washington PERS 2/3</td>\n",
       "      <td>-0.83143</td>\n",
       "      <td>2019</td>\n",
       "      <td>0.96000</td>\n",
       "      <td>2001</td>\n",
       "      <td>1.79143</td>\n",
       "    </tr>\n",
       "  </tbody>\n",
       "</table>\n",
       "</div>"
      ],
      "text/plain": [
       "   ppd_id                              PlanName  delta_plan fy_2019  \\\n",
       "31     41                          Kentucky ERS    -1.09300    2019   \n",
       "98    122          Washington Teachers Plan 2/3    -1.06396    2019   \n",
       "97    120  Washington School Employees Plan 2/3    -1.06015    2019   \n",
       "30     40                       Kentucky County    -0.92919    2019   \n",
       "96    119                   Washington PERS 2/3    -0.83143    2019   \n",
       "\n",
       "    ActFundedRatio_GASB_2019 fy_2001  ActFundedRatio_GASB_2001  \n",
       "31                   0.16500    2001                   1.25800  \n",
       "98                   0.91000    2001                   1.97396  \n",
       "97                   0.91000    2001                   1.97015  \n",
       "30                   0.48081    2001                   1.41000  \n",
       "96                   0.96000    2001                   1.79143  "
      ]
     },
     "execution_count": 16,
     "metadata": {},
     "output_type": "execute_result"
    }
   ],
   "source": [
    "#Least improved plans are plans with the lowest or negative delta between 2019 and 2001 funded ratios\n",
    "least_improved = improved_plan_df.sort_values(by='delta_plan', ascending=True)\n",
    "least_improved[['ppd_id','PlanName','delta_plan','fy_2019','ActFundedRatio_GASB_2019','fy_2001','ActFundedRatio_GASB_2001']].head(5)"
   ]
  },
  {
   "cell_type": "code",
   "execution_count": 17,
   "metadata": {},
   "outputs": [],
   "source": [
    "least_improved_list=[\"41\",\"122\",\"120\",\"40\",\"119\"]"
   ]
  },
  {
   "cell_type": "markdown",
   "metadata": {},
   "source": [
    "Find Hardest Hit Group ppd_IDs.  \"Hardest Hit\" plans are defined as those that showed the largest difference between their funded ratio in 2007 and their funded ratio in 2010, covering the period of the housing recession."
   ]
  },
  {
   "cell_type": "code",
   "execution_count": 18,
   "metadata": {},
   "outputs": [
    {
     "data": {
      "text/html": [
       "<div>\n",
       "<style scoped>\n",
       "    .dataframe tbody tr th:only-of-type {\n",
       "        vertical-align: middle;\n",
       "    }\n",
       "\n",
       "    .dataframe tbody tr th {\n",
       "        vertical-align: top;\n",
       "    }\n",
       "\n",
       "    .dataframe thead th {\n",
       "        text-align: right;\n",
       "    }\n",
       "</style>\n",
       "<table border=\"1\" class=\"dataframe\">\n",
       "  <thead>\n",
       "    <tr style=\"text-align: right;\">\n",
       "      <th></th>\n",
       "      <th>ppd_id</th>\n",
       "      <th>PlanName_2010</th>\n",
       "      <th>delta_plan</th>\n",
       "      <th>fy_2010</th>\n",
       "      <th>ActFundedRatio_GASB_2010</th>\n",
       "      <th>fy_2007</th>\n",
       "      <th>ActFundedRatio_GASB_2007</th>\n",
       "    </tr>\n",
       "  </thead>\n",
       "  <tbody>\n",
       "    <tr>\n",
       "      <th>163</th>\n",
       "      <td>168</td>\n",
       "      <td>Miami Fire and Police</td>\n",
       "      <td>-0.30000</td>\n",
       "      <td>2010</td>\n",
       "      <td>0.66000</td>\n",
       "      <td>2007</td>\n",
       "      <td>0.96000</td>\n",
       "    </tr>\n",
       "    <tr>\n",
       "      <th>126</th>\n",
       "      <td>130</td>\n",
       "      <td>Louisiana Municipal Police</td>\n",
       "      <td>-0.29184</td>\n",
       "      <td>2010</td>\n",
       "      <td>0.59869</td>\n",
       "      <td>2007</td>\n",
       "      <td>0.89053</td>\n",
       "    </tr>\n",
       "    <tr>\n",
       "      <th>175</th>\n",
       "      <td>184</td>\n",
       "      <td>Anchorage Police and Fire</td>\n",
       "      <td>-0.27052</td>\n",
       "      <td>2010</td>\n",
       "      <td>0.85093</td>\n",
       "      <td>2007</td>\n",
       "      <td>1.12145</td>\n",
       "    </tr>\n",
       "    <tr>\n",
       "      <th>147</th>\n",
       "      <td>151</td>\n",
       "      <td>Milwaukee City ERS</td>\n",
       "      <td>-0.26800</td>\n",
       "      <td>2010</td>\n",
       "      <td>1.04400</td>\n",
       "      <td>2007</td>\n",
       "      <td>1.31200</td>\n",
       "    </tr>\n",
       "    <tr>\n",
       "      <th>30</th>\n",
       "      <td>31</td>\n",
       "      <td>Idaho PERS</td>\n",
       "      <td>-0.26600</td>\n",
       "      <td>2010</td>\n",
       "      <td>0.78900</td>\n",
       "      <td>2007</td>\n",
       "      <td>1.05500</td>\n",
       "    </tr>\n",
       "  </tbody>\n",
       "</table>\n",
       "</div>"
      ],
      "text/plain": [
       "    ppd_id               PlanName_2010  delta_plan fy_2010  \\\n",
       "163    168       Miami Fire and Police    -0.30000    2010   \n",
       "126    130  Louisiana Municipal Police    -0.29184    2010   \n",
       "175    184   Anchorage Police and Fire    -0.27052    2010   \n",
       "147    151          Milwaukee City ERS    -0.26800    2010   \n",
       "30      31                  Idaho PERS    -0.26600    2010   \n",
       "\n",
       "     ActFundedRatio_GASB_2010 fy_2007  ActFundedRatio_GASB_2007  \n",
       "163                   0.66000    2007                   0.96000  \n",
       "126                   0.59869    2007                   0.89053  \n",
       "175                   0.85093    2007                   1.12145  \n",
       "147                   1.04400    2007                   1.31200  \n",
       "30                    0.78900    2007                   1.05500  "
      ]
     },
     "execution_count": 18,
     "metadata": {},
     "output_type": "execute_result"
    }
   ],
   "source": [
    "plan_data_2010=plan_test_data_df[(plan_test_data_df['fy']=='2010')]\n",
    "plan_data_2007=plan_test_data_df[(plan_test_data_df['fy']=='2007')]\n",
    "crash_plan_df = plan_data_2010.merge(plan_data_2007, how='left', on='ppd_id', suffixes=('_2010','_2007'))\n",
    "crash_plan_df['delta_plan'] = crash_plan_df['ActFundedRatio_GASB_2010'] - crash_plan_df['ActFundedRatio_GASB_2007']\n",
    "hardest_hit = crash_plan_df.sort_values(by='delta_plan', ascending=True)[0:5]\n",
    "hardest_hit[['ppd_id','PlanName_2010','delta_plan','fy_2010','ActFundedRatio_GASB_2010','fy_2007','ActFundedRatio_GASB_2007']]"
   ]
  },
  {
   "cell_type": "code",
   "execution_count": 19,
   "metadata": {},
   "outputs": [],
   "source": [
    "hardest_hit_list=[\"168\",\"130\",\"184\",\"151\",\"31\"]"
   ]
  },
  {
   "cell_type": "code",
   "execution_count": 21,
   "metadata": {},
   "outputs": [],
   "source": [
    "#Create dictionary of study plan ids\n",
    "study_plans_dict={\"Steady\":steady_group_list,\n",
    "                        \"Most Improved\":most_improved_list,\n",
    "                        \"Least Improved\":least_improved_list,\n",
    "                        \"Hardest Hit\":hardest_hit_list}"
   ]
  },
  {
   "cell_type": "code",
   "execution_count": null,
   "metadata": {},
   "outputs": [],
   "source": [
    "#Question 2A"
   ]
  },
  {
   "cell_type": "code",
   "execution_count": null,
   "metadata": {},
   "outputs": [],
   "source": [
    "#Question 2B"
   ]
  },
  {
   "cell_type": "code",
   "execution_count": null,
   "metadata": {},
   "outputs": [],
   "source": [
    "#Question 2C"
   ]
  },
  {
   "cell_type": "code",
   "execution_count": null,
   "metadata": {},
   "outputs": [],
   "source": [
    "#Question 2D"
   ]
  },
  {
   "cell_type": "code",
   "execution_count": null,
   "metadata": {},
   "outputs": [],
   "source": [
    "#Question 2E"
   ]
  },
  {
   "cell_type": "code",
   "execution_count": null,
   "metadata": {},
   "outputs": [],
   "source": [
    "#Question 2F"
   ]
  },
  {
   "cell_type": "code",
   "execution_count": null,
   "metadata": {},
   "outputs": [],
   "source": [
    "#Question 2G"
   ]
  }
 ],
 "metadata": {
  "kernelspec": {
   "display_name": "Python 3",
   "language": "python",
   "name": "python3"
  },
  "language_info": {
   "codemirror_mode": {
    "name": "ipython",
    "version": 3
   },
   "file_extension": ".py",
   "mimetype": "text/x-python",
   "name": "python",
   "nbconvert_exporter": "python",
   "pygments_lexer": "ipython3",
   "version": "3.8.5"
  }
 },
 "nbformat": 4,
 "nbformat_minor": 4
}

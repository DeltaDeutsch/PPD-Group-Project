{
 "cells": [
  {
   "cell_type": "code",
   "execution_count": 1,
   "metadata": {},
   "outputs": [],
   "source": [
    "import requests\n",
    "import json\n",
    "import pandas as pd\n"
   ]
  },
  {
   "cell_type": "code",
   "execution_count": 2,
   "metadata": {},
   "outputs": [],
   "source": [
    "url =\"http://publicplansdata.org/api/\"\n",
    "#http://publicplansdata.org/api/?q=QVariables&variables=fy,PlanName,PercentReqContPaid,InvestmentReturn_5yr,ActFundedRatio_GASB&filterfystart=2000&filterfyend=2019&format=json"
   ]
  },
  {
   "cell_type": "code",
   "execution_count": 3,
   "metadata": {},
   "outputs": [],
   "source": [
    "params = {\n",
    "    \"q\": \"ListDataSets\",\n",
    "     \"format\": \"json\"\n",
    "    \n",
    "}\n"
   ]
  },
  {
   "cell_type": "code",
   "execution_count": 4,
   "metadata": {},
   "outputs": [
    {
     "name": "stdout",
     "output_type": "stream",
     "text": [
      "http://publicplansdata.org/api/?q=ListDataSets&format=json\n"
     ]
    }
   ],
   "source": [
    "response = requests.get(url, params = params)\n",
    "print(response.url)"
   ]
  },
  {
   "cell_type": "code",
   "execution_count": 5,
   "metadata": {},
   "outputs": [
    {
     "data": {
      "text/plain": [
       "[{'status': 'OK',\n",
       "  'date': '2021-05-27 05:23:11',\n",
       "  'q': 'listdatasets',\n",
       "  'params': 'q=ListDataSets&format=json',\n",
       "  'recordcount': 34},\n",
       " {'id': '3',\n",
       "  'table_name': 'pensiongasbschedules',\n",
       "  'table_display_name': 'Funding'},\n",
       " {'id': '4',\n",
       "  'table_name': 'pensiongasbassumptions',\n",
       "  'table_display_name': 'Assumptions and Methods'},\n",
       " {'id': '5',\n",
       "  'table_name': 'pensionincomestatement',\n",
       "  'table_display_name': 'Income Statement'},\n",
       " {'id': '7',\n",
       "  'table_name': 'pensioninvestmentreturn',\n",
       "  'table_display_name': 'Investment Returns'},\n",
       " {'id': '8',\n",
       "  'table_name': 'pensionactuarialcosts',\n",
       "  'table_display_name': 'Actuarial Costs'},\n",
       " {'id': '9',\n",
       "  'table_name': 'pensionprovisions',\n",
       "  'table_display_name': 'Plan Provisions'},\n",
       " {'id': '10',\n",
       "  'table_name': 'pensionmembership',\n",
       "  'table_display_name': 'Membership'},\n",
       " {'id': '11',\n",
       "  'table_name': 'pensionreportingdates',\n",
       "  'table_display_name': 'Plan Reporting'},\n",
       " {'id': '12',\n",
       "  'table_name': 'pensioneegroupbasics',\n",
       "  'table_display_name': 'Employee Group Basics'},\n",
       " {'id': '13',\n",
       "  'table_name': 'pensionplanbasics',\n",
       "  'table_display_name': 'Plan Basics'},\n",
       " {'id': '18',\n",
       "  'table_name': 'pensiontierbasics',\n",
       "  'table_display_name': 'Plan Group Tiers'},\n",
       " {'id': '21',\n",
       "  'table_name': 'nationaldatappd',\n",
       "  'table_display_name': 'National Data, PPD'},\n",
       " {'id': '22',\n",
       "  'table_name': 'nationaldatacensus',\n",
       "  'table_display_name': 'National Data, Census'},\n",
       " {'id': '24',\n",
       "  'table_name': 'ppdstatedata',\n",
       "  'table_display_name': 'PPD State Data'},\n",
       " {'id': '25',\n",
       "  'table_name': 'pensionnormalretirementeligibility',\n",
       "  'table_display_name': 'Normal Retirement Eligibility'},\n",
       " {'id': '26',\n",
       "  'table_name': 'pensionnormalretirementbenefit',\n",
       "  'table_display_name': 'Normal Retirement Benefit'},\n",
       " {'id': '27',\n",
       "  'table_name': 'pensionfinalaveragesalary',\n",
       "  'table_display_name': 'Final Average Salary'},\n",
       " {'id': '28',\n",
       "  'table_name': 'pensionbenefitcap',\n",
       "  'table_display_name': 'Benefit Cap'},\n",
       " {'id': '29',\n",
       "  'table_name': 'pensionearlyretirementeligibility',\n",
       "  'table_display_name': 'Early Retirement Eligibility'},\n",
       " {'id': '30',\n",
       "  'table_name': 'pensionearlyretirementreduction',\n",
       "  'table_display_name': 'Early Retirement Reduction'},\n",
       " {'id': '31',\n",
       "  'table_name': 'pensionemployeecontributionrate',\n",
       "  'table_display_name': 'Employee Contribution Rate'},\n",
       " {'id': '32',\n",
       "  'table_name': 'pensioncolabenefit',\n",
       "  'table_display_name': 'COLA Benefit'},\n",
       " {'id': '33',\n",
       "  'table_name': 'pensionretirementsystembasics',\n",
       "  'table_display_name': 'Retirement System Basics'},\n",
       " {'id': '34',\n",
       "  'table_name': 'pensionfundingandmethods',\n",
       "  'table_display_name': 'Pension Funding and Methods'},\n",
       " {'id': '35',\n",
       "  'table_name': 'pensionactuarialliabilities',\n",
       "  'table_display_name': 'Actuarial Liabilities'},\n",
       " {'id': '36',\n",
       "  'table_name': 'pensionbenefitmin',\n",
       "  'table_display_name': 'Benefit Min'},\n",
       " {'id': '37',\n",
       "  'table_name': 'pensionsystemdata',\n",
       "  'table_display_name': 'Pension System Data'},\n",
       " {'id': '39',\n",
       "  'table_name': 'pensioninvestmentperformance',\n",
       "  'table_display_name': 'Investment Data by Asset Class'},\n",
       " {'id': '41',\n",
       "  'table_name': 'pensioninvestmentperformancedetailed_actl',\n",
       "  'table_display_name': 'Detailed Investment Data by Asset Class (Allocation)'},\n",
       " {'id': '42',\n",
       "  'table_name': 'pensioninvestmentperformancedetailed_bnchmrkrtrn',\n",
       "  'table_display_name': 'Detailed Investment Data by Asset Class (Benchmark Return)'},\n",
       " {'id': '44',\n",
       "  'table_name': 'pensioninvestmentperformancedetailed_rtrn',\n",
       "  'table_display_name': 'Detailed Investment Data by Asset Class (Return)'},\n",
       " {'id': '45',\n",
       "  'table_name': 'pensioninvestmentperformancedetailed_trgt',\n",
       "  'table_display_name': 'Detailed Investment Data by Asset Class (Target)'},\n",
       " {'id': '46',\n",
       "  'table_name': 'pensioninterestraterisk',\n",
       "  'table_display_name': 'Bond Duration'},\n",
       " {'id': '47',\n",
       "  'table_name': 'pensioncreditrating',\n",
       "  'table_display_name': 'Credit Rating'}]"
      ]
     },
     "execution_count": 5,
     "metadata": {},
     "output_type": "execute_result"
    }
   ],
   "source": [
    "data = response.json()\n",
    "data"
   ]
  },
  {
   "cell_type": "code",
   "execution_count": 6,
   "metadata": {},
   "outputs": [],
   "source": [
    "#Make sure to use QDataset, NOT QDataSet.  Makes a big difference\n",
    "paramsratios = {\n",
    "    \"q\": \"QDataset\",\n",
    "    \"dataset\": \"pensiongasbschedules\",\n",
    "     \"format\": \"json\",\n",
    "    #\"variables\": \n",
    "     #\"v\": variables,\n",
    "}\n",
    "paramsbasicplandata = {\n",
    "    \"q\": \"QDataset\",\n",
    "    \"dataset\": \"pensionplanbasics\",\n",
    "     \"format\": \"json\",\n",
    "    #\"variables\": \n",
    "     #\"v\": ,\n",
    "}\n"
   ]
  },
  {
   "cell_type": "code",
   "execution_count": 7,
   "metadata": {},
   "outputs": [],
   "source": [
    "ratiosresponse = requests.get(url, params = paramsratios)\n",
    "#print(ratiosresponse.url)\n",
    "plandataresponse = requests.get(url,params=paramsbasicplandata)"
   ]
  },
  {
   "cell_type": "code",
   "execution_count": 8,
   "metadata": {},
   "outputs": [],
   "source": [
    "fundedratiosdata = ratiosresponse.json()\n",
    "plandata = plandataresponse.json()"
   ]
  },
  {
   "cell_type": "code",
   "execution_count": 9,
   "metadata": {},
   "outputs": [],
   "source": [
    "funded_ratios_full = pd.DataFrame(fundedratiosdata[1:])\n",
    "plan_data_full = pd.DataFrame(plandata[1:])"
   ]
  },
  {
   "cell_type": "code",
   "execution_count": 10,
   "metadata": {},
   "outputs": [
    {
     "data": {
      "text/plain": [
       "Index(['ActAssets_est', 'ActAssets_GASB', 'ActFundedRatio_est',\n",
       "       'ActFundedRatio_GASB', 'ActFundedRatio_GASB67', 'ActLiabilities_est',\n",
       "       'ActLiabilities_GASB', 'ActLiabilities_other', 'ADEC', 'EEGroupID',\n",
       "       'fy', 'NetPensionLiability', 'NetPosition', 'notes_GASBSchedules',\n",
       "       'payroll', 'PercentReqContPaid', 'ppd_id', 'RequiredContribution',\n",
       "       'RequiredContribution_est', 'source_GASBSchedules', 'TierID',\n",
       "       'TotalPensionLiability', 'UAAL_GASB'],\n",
       "      dtype='object')"
      ]
     },
     "execution_count": 10,
     "metadata": {},
     "output_type": "execute_result"
    }
   ],
   "source": [
    "funded_ratios_full.columns"
   ]
  },
  {
   "cell_type": "code",
   "execution_count": 11,
   "metadata": {},
   "outputs": [
    {
     "data": {
      "text/plain": [
       "(4032, 4)"
      ]
     },
     "execution_count": 11,
     "metadata": {},
     "output_type": "execute_result"
    }
   ],
   "source": [
    "funded_ratio_df=funded_ratios_full[['ppd_id','fy','ActFundedRatio_GASB','ActFundedRatio_est']].dropna()\n",
    "funded_ratio_df.shape"
   ]
  },
  {
   "cell_type": "code",
   "execution_count": 12,
   "metadata": {},
   "outputs": [
    {
     "data": {
      "text/plain": [
       "Index(['AdministeringGovt', 'BenefitsWebsite', 'CostSharing', 'CostStructure',\n",
       "       'DataEndYear', 'DataStartYear', 'EmployeeTypeCovered', 'EmployerType',\n",
       "       'FiscalYearType', 'GovtName', 'InPFS', 'notes_PlanBasics', 'PlanClosed',\n",
       "       'PlanFullName', 'PlanInceptionYear', 'PlanName', 'PlanType',\n",
       "       'PlanYearClosed', 'ppd_directory_listed', 'ppd_id', 'SocSecCovered',\n",
       "       'SocSecCovered_verbatim', 'source_PlanBasics', 'StateAbbrev',\n",
       "       'StateName', 'system_id'],\n",
       "      dtype='object')"
      ]
     },
     "execution_count": 12,
     "metadata": {},
     "output_type": "execute_result"
    }
   ],
   "source": [
    "plan_data_full.columns"
   ]
  },
  {
   "cell_type": "code",
   "execution_count": 13,
   "metadata": {},
   "outputs": [
    {
     "data": {
      "text/html": [
       "<div>\n",
       "<style scoped>\n",
       "    .dataframe tbody tr th:only-of-type {\n",
       "        vertical-align: middle;\n",
       "    }\n",
       "\n",
       "    .dataframe tbody tr th {\n",
       "        vertical-align: top;\n",
       "    }\n",
       "\n",
       "    .dataframe thead th {\n",
       "        text-align: right;\n",
       "    }\n",
       "</style>\n",
       "<table border=\"1\" class=\"dataframe\">\n",
       "  <thead>\n",
       "    <tr style=\"text-align: right;\">\n",
       "      <th></th>\n",
       "      <th>ppd_id</th>\n",
       "      <th>PlanName</th>\n",
       "      <th>StateAbbrev</th>\n",
       "      <th>PlanClosed</th>\n",
       "      <th>PlanYearClosed</th>\n",
       "    </tr>\n",
       "  </thead>\n",
       "  <tbody>\n",
       "    <tr>\n",
       "      <th>0</th>\n",
       "      <td>1</td>\n",
       "      <td>Alabama ERS</td>\n",
       "      <td>AL</td>\n",
       "      <td>0</td>\n",
       "      <td>None</td>\n",
       "    </tr>\n",
       "    <tr>\n",
       "      <th>1</th>\n",
       "      <td>2</td>\n",
       "      <td>Alabama Teachers</td>\n",
       "      <td>AL</td>\n",
       "      <td>0</td>\n",
       "      <td>None</td>\n",
       "    </tr>\n",
       "    <tr>\n",
       "      <th>2</th>\n",
       "      <td>3</td>\n",
       "      <td>Alaska PERS</td>\n",
       "      <td>AK</td>\n",
       "      <td>1</td>\n",
       "      <td>2006</td>\n",
       "    </tr>\n",
       "    <tr>\n",
       "      <th>3</th>\n",
       "      <td>4</td>\n",
       "      <td>Alaska Teachers</td>\n",
       "      <td>AK</td>\n",
       "      <td>1</td>\n",
       "      <td>2006</td>\n",
       "    </tr>\n",
       "    <tr>\n",
       "      <th>4</th>\n",
       "      <td>5</td>\n",
       "      <td>Arizona Public Safety</td>\n",
       "      <td>AZ</td>\n",
       "      <td>0</td>\n",
       "      <td>None</td>\n",
       "    </tr>\n",
       "  </tbody>\n",
       "</table>\n",
       "</div>"
      ],
      "text/plain": [
       "  ppd_id               PlanName StateAbbrev PlanClosed PlanYearClosed\n",
       "0      1            Alabama ERS          AL          0           None\n",
       "1      2       Alabama Teachers          AL          0           None\n",
       "2      3            Alaska PERS          AK          1           2006\n",
       "3      4        Alaska Teachers          AK          1           2006\n",
       "4      5  Arizona Public Safety          AZ          0           None"
      ]
     },
     "execution_count": 13,
     "metadata": {},
     "output_type": "execute_result"
    }
   ],
   "source": [
    "plan_data_df=plan_data_full[['ppd_id','PlanName','StateAbbrev','PlanClosed','PlanYearClosed',]]\n",
    "plan_data_df.head()"
   ]
  },
  {
   "cell_type": "code",
   "execution_count": 14,
   "metadata": {},
   "outputs": [
    {
     "data": {
      "text/plain": [
       "(4032, 8)"
      ]
     },
     "execution_count": 14,
     "metadata": {},
     "output_type": "execute_result"
    }
   ],
   "source": [
    "plan_test_data_df=pd.merge(funded_ratio_df,plan_data_df,how=\"inner\",on=\"ppd_id\")\n",
    "plan_test_data_df.shape"
   ]
  },
  {
   "cell_type": "code",
   "execution_count": 15,
   "metadata": {},
   "outputs": [
    {
     "data": {
      "text/html": [
       "<div>\n",
       "<style scoped>\n",
       "    .dataframe tbody tr th:only-of-type {\n",
       "        vertical-align: middle;\n",
       "    }\n",
       "\n",
       "    .dataframe tbody tr th {\n",
       "        vertical-align: top;\n",
       "    }\n",
       "\n",
       "    .dataframe thead th {\n",
       "        text-align: right;\n",
       "    }\n",
       "</style>\n",
       "<table border=\"1\" class=\"dataframe\">\n",
       "  <thead>\n",
       "    <tr style=\"text-align: right;\">\n",
       "      <th></th>\n",
       "      <th>ppd_id</th>\n",
       "      <th>fy</th>\n",
       "      <th>ActFundedRatio_GASB</th>\n",
       "      <th>ActFundedRatio_est</th>\n",
       "      <th>PlanName</th>\n",
       "      <th>StateAbbrev</th>\n",
       "      <th>PlanClosed</th>\n",
       "      <th>PlanYearClosed</th>\n",
       "    </tr>\n",
       "  </thead>\n",
       "  <tbody>\n",
       "    <tr>\n",
       "      <th>0</th>\n",
       "      <td>1</td>\n",
       "      <td>2001</td>\n",
       "      <td>1.00200</td>\n",
       "      <td>0.000</td>\n",
       "      <td>Alabama ERS</td>\n",
       "      <td>AL</td>\n",
       "      <td>0</td>\n",
       "      <td>None</td>\n",
       "    </tr>\n",
       "    <tr>\n",
       "      <th>1</th>\n",
       "      <td>1</td>\n",
       "      <td>2002</td>\n",
       "      <td>0.95400</td>\n",
       "      <td>0.000</td>\n",
       "      <td>Alabama ERS</td>\n",
       "      <td>AL</td>\n",
       "      <td>0</td>\n",
       "      <td>None</td>\n",
       "    </tr>\n",
       "    <tr>\n",
       "      <th>2</th>\n",
       "      <td>1</td>\n",
       "      <td>2003</td>\n",
       "      <td>0.91100</td>\n",
       "      <td>0.000</td>\n",
       "      <td>Alabama ERS</td>\n",
       "      <td>AL</td>\n",
       "      <td>0</td>\n",
       "      <td>None</td>\n",
       "    </tr>\n",
       "    <tr>\n",
       "      <th>3</th>\n",
       "      <td>1</td>\n",
       "      <td>2004</td>\n",
       "      <td>0.89700</td>\n",
       "      <td>0.000</td>\n",
       "      <td>Alabama ERS</td>\n",
       "      <td>AL</td>\n",
       "      <td>0</td>\n",
       "      <td>None</td>\n",
       "    </tr>\n",
       "    <tr>\n",
       "      <th>4</th>\n",
       "      <td>1</td>\n",
       "      <td>2005</td>\n",
       "      <td>0.84000</td>\n",
       "      <td>0.000</td>\n",
       "      <td>Alabama ERS</td>\n",
       "      <td>AL</td>\n",
       "      <td>0</td>\n",
       "      <td>None</td>\n",
       "    </tr>\n",
       "    <tr>\n",
       "      <th>...</th>\n",
       "      <td>...</td>\n",
       "      <td>...</td>\n",
       "      <td>...</td>\n",
       "      <td>...</td>\n",
       "      <td>...</td>\n",
       "      <td>...</td>\n",
       "      <td>...</td>\n",
       "      <td>...</td>\n",
       "    </tr>\n",
       "    <tr>\n",
       "      <th>495</th>\n",
       "      <td>25</td>\n",
       "      <td>2011</td>\n",
       "      <td>0.76450</td>\n",
       "      <td>0.000</td>\n",
       "      <td>Fairfax County Schools</td>\n",
       "      <td>VA</td>\n",
       "      <td>0</td>\n",
       "      <td>None</td>\n",
       "    </tr>\n",
       "    <tr>\n",
       "      <th>496</th>\n",
       "      <td>25</td>\n",
       "      <td>2012</td>\n",
       "      <td>0.75560</td>\n",
       "      <td>0.000</td>\n",
       "      <td>Fairfax County Schools</td>\n",
       "      <td>VA</td>\n",
       "      <td>0</td>\n",
       "      <td>None</td>\n",
       "    </tr>\n",
       "    <tr>\n",
       "      <th>497</th>\n",
       "      <td>25</td>\n",
       "      <td>2013</td>\n",
       "      <td>0.75420</td>\n",
       "      <td>0.000</td>\n",
       "      <td>Fairfax County Schools</td>\n",
       "      <td>VA</td>\n",
       "      <td>0</td>\n",
       "      <td>None</td>\n",
       "    </tr>\n",
       "    <tr>\n",
       "      <th>498</th>\n",
       "      <td>25</td>\n",
       "      <td>2014</td>\n",
       "      <td>0.76700</td>\n",
       "      <td>0.000</td>\n",
       "      <td>Fairfax County Schools</td>\n",
       "      <td>VA</td>\n",
       "      <td>0</td>\n",
       "      <td>None</td>\n",
       "    </tr>\n",
       "    <tr>\n",
       "      <th>499</th>\n",
       "      <td>25</td>\n",
       "      <td>2015</td>\n",
       "      <td>0.77700</td>\n",
       "      <td>0.000</td>\n",
       "      <td>Fairfax County Schools</td>\n",
       "      <td>VA</td>\n",
       "      <td>0</td>\n",
       "      <td>None</td>\n",
       "    </tr>\n",
       "  </tbody>\n",
       "</table>\n",
       "<p>500 rows × 8 columns</p>\n",
       "</div>"
      ],
      "text/plain": [
       "    ppd_id    fy ActFundedRatio_GASB ActFundedRatio_est  \\\n",
       "0        1  2001             1.00200              0.000   \n",
       "1        1  2002             0.95400              0.000   \n",
       "2        1  2003             0.91100              0.000   \n",
       "3        1  2004             0.89700              0.000   \n",
       "4        1  2005             0.84000              0.000   \n",
       "..     ...   ...                 ...                ...   \n",
       "495     25  2011             0.76450              0.000   \n",
       "496     25  2012             0.75560              0.000   \n",
       "497     25  2013             0.75420              0.000   \n",
       "498     25  2014             0.76700              0.000   \n",
       "499     25  2015             0.77700              0.000   \n",
       "\n",
       "                   PlanName StateAbbrev PlanClosed PlanYearClosed  \n",
       "0               Alabama ERS          AL          0           None  \n",
       "1               Alabama ERS          AL          0           None  \n",
       "2               Alabama ERS          AL          0           None  \n",
       "3               Alabama ERS          AL          0           None  \n",
       "4               Alabama ERS          AL          0           None  \n",
       "..                      ...         ...        ...            ...  \n",
       "495  Fairfax County Schools          VA          0           None  \n",
       "496  Fairfax County Schools          VA          0           None  \n",
       "497  Fairfax County Schools          VA          0           None  \n",
       "498  Fairfax County Schools          VA          0           None  \n",
       "499  Fairfax County Schools          VA          0           None  \n",
       "\n",
       "[500 rows x 8 columns]"
      ]
     },
     "execution_count": 15,
     "metadata": {},
     "output_type": "execute_result"
    }
   ],
   "source": [
    "plan_test_data_df.head(500)"
   ]
  },
  {
   "cell_type": "code",
   "execution_count": null,
   "metadata": {},
   "outputs": [],
   "source": []
  }
 ],
 "metadata": {
  "kernelspec": {
   "display_name": "Python 3",
   "language": "python",
   "name": "python3"
  },
  "language_info": {
   "codemirror_mode": {
    "name": "ipython",
    "version": 3
   },
   "file_extension": ".py",
   "mimetype": "text/x-python",
   "name": "python",
   "nbconvert_exporter": "python",
   "pygments_lexer": "ipython3",
   "version": "3.8.5"
  }
 },
 "nbformat": 4,
 "nbformat_minor": 4
}

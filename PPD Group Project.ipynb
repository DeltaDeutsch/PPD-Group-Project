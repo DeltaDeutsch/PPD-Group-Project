{
 "cells": [
  {
   "cell_type": "code",
   "execution_count": 1,
   "metadata": {},
   "outputs": [],
   "source": [
    "import requests\n",
    "import json\n",
    "import pandas as pd\n"
   ]
  },
  {
   "cell_type": "code",
   "execution_count": 2,
   "metadata": {},
   "outputs": [],
   "source": [
    "url =\"http://publicplansdata.org/api/\"\n",
    "#http://publicplansdata.org/api/?q=QVariables&variables=fy,PlanName,PercentReqContPaid,InvestmentReturn_5yr,ActFundedRatio_GASB&filterfystart=2000&filterfyend=2019&format=json"
   ]
  },
  {
   "cell_type": "code",
   "execution_count": 3,
   "metadata": {},
   "outputs": [],
   "source": [
    "params = {\n",
    "    \"q\": \"ListDataSets\",\n",
    "     \"format\": \"json\"\n",
    "    \n",
    "}\n"
   ]
  },
  {
   "cell_type": "code",
   "execution_count": 4,
   "metadata": {},
   "outputs": [
    {
     "name": "stdout",
     "output_type": "stream",
     "text": [
      "http://publicplansdata.org/api/?q=ListDataSets&format=json\n"
     ]
    }
   ],
   "source": [
    "response = requests.get(url, params = params)\n",
    "print(response.url)"
   ]
  },
  {
   "cell_type": "code",
   "execution_count": 5,
   "metadata": {},
   "outputs": [
    {
     "data": {
      "text/plain": [
       "[{'status': 'OK',\n",
       "  'date': '2021-05-28 02:08:54',\n",
       "  'q': 'listdatasets',\n",
       "  'params': 'q=ListDataSets&format=json',\n",
       "  'recordcount': 34},\n",
       " {'id': '3',\n",
       "  'table_name': 'pensiongasbschedules',\n",
       "  'table_display_name': 'Funding'},\n",
       " {'id': '4',\n",
       "  'table_name': 'pensiongasbassumptions',\n",
       "  'table_display_name': 'Assumptions and Methods'},\n",
       " {'id': '5',\n",
       "  'table_name': 'pensionincomestatement',\n",
       "  'table_display_name': 'Income Statement'},\n",
       " {'id': '7',\n",
       "  'table_name': 'pensioninvestmentreturn',\n",
       "  'table_display_name': 'Investment Returns'},\n",
       " {'id': '8',\n",
       "  'table_name': 'pensionactuarialcosts',\n",
       "  'table_display_name': 'Actuarial Costs'},\n",
       " {'id': '9',\n",
       "  'table_name': 'pensionprovisions',\n",
       "  'table_display_name': 'Plan Provisions'},\n",
       " {'id': '10',\n",
       "  'table_name': 'pensionmembership',\n",
       "  'table_display_name': 'Membership'},\n",
       " {'id': '11',\n",
       "  'table_name': 'pensionreportingdates',\n",
       "  'table_display_name': 'Plan Reporting'},\n",
       " {'id': '12',\n",
       "  'table_name': 'pensioneegroupbasics',\n",
       "  'table_display_name': 'Employee Group Basics'},\n",
       " {'id': '13',\n",
       "  'table_name': 'pensionplanbasics',\n",
       "  'table_display_name': 'Plan Basics'},\n",
       " {'id': '18',\n",
       "  'table_name': 'pensiontierbasics',\n",
       "  'table_display_name': 'Plan Group Tiers'},\n",
       " {'id': '21',\n",
       "  'table_name': 'nationaldatappd',\n",
       "  'table_display_name': 'National Data, PPD'},\n",
       " {'id': '22',\n",
       "  'table_name': 'nationaldatacensus',\n",
       "  'table_display_name': 'National Data, Census'},\n",
       " {'id': '24',\n",
       "  'table_name': 'ppdstatedata',\n",
       "  'table_display_name': 'PPD State Data'},\n",
       " {'id': '25',\n",
       "  'table_name': 'pensionnormalretirementeligibility',\n",
       "  'table_display_name': 'Normal Retirement Eligibility'},\n",
       " {'id': '26',\n",
       "  'table_name': 'pensionnormalretirementbenefit',\n",
       "  'table_display_name': 'Normal Retirement Benefit'},\n",
       " {'id': '27',\n",
       "  'table_name': 'pensionfinalaveragesalary',\n",
       "  'table_display_name': 'Final Average Salary'},\n",
       " {'id': '28',\n",
       "  'table_name': 'pensionbenefitcap',\n",
       "  'table_display_name': 'Benefit Cap'},\n",
       " {'id': '29',\n",
       "  'table_name': 'pensionearlyretirementeligibility',\n",
       "  'table_display_name': 'Early Retirement Eligibility'},\n",
       " {'id': '30',\n",
       "  'table_name': 'pensionearlyretirementreduction',\n",
       "  'table_display_name': 'Early Retirement Reduction'},\n",
       " {'id': '31',\n",
       "  'table_name': 'pensionemployeecontributionrate',\n",
       "  'table_display_name': 'Employee Contribution Rate'},\n",
       " {'id': '32',\n",
       "  'table_name': 'pensioncolabenefit',\n",
       "  'table_display_name': 'COLA Benefit'},\n",
       " {'id': '33',\n",
       "  'table_name': 'pensionretirementsystembasics',\n",
       "  'table_display_name': 'Retirement System Basics'},\n",
       " {'id': '34',\n",
       "  'table_name': 'pensionfundingandmethods',\n",
       "  'table_display_name': 'Pension Funding and Methods'},\n",
       " {'id': '35',\n",
       "  'table_name': 'pensionactuarialliabilities',\n",
       "  'table_display_name': 'Actuarial Liabilities'},\n",
       " {'id': '36',\n",
       "  'table_name': 'pensionbenefitmin',\n",
       "  'table_display_name': 'Benefit Min'},\n",
       " {'id': '37',\n",
       "  'table_name': 'pensionsystemdata',\n",
       "  'table_display_name': 'Pension System Data'},\n",
       " {'id': '39',\n",
       "  'table_name': 'pensioninvestmentperformance',\n",
       "  'table_display_name': 'Investment Data by Asset Class'},\n",
       " {'id': '41',\n",
       "  'table_name': 'pensioninvestmentperformancedetailed_actl',\n",
       "  'table_display_name': 'Detailed Investment Data by Asset Class (Allocation)'},\n",
       " {'id': '42',\n",
       "  'table_name': 'pensioninvestmentperformancedetailed_bnchmrkrtrn',\n",
       "  'table_display_name': 'Detailed Investment Data by Asset Class (Benchmark Return)'},\n",
       " {'id': '44',\n",
       "  'table_name': 'pensioninvestmentperformancedetailed_rtrn',\n",
       "  'table_display_name': 'Detailed Investment Data by Asset Class (Return)'},\n",
       " {'id': '45',\n",
       "  'table_name': 'pensioninvestmentperformancedetailed_trgt',\n",
       "  'table_display_name': 'Detailed Investment Data by Asset Class (Target)'},\n",
       " {'id': '46',\n",
       "  'table_name': 'pensioninterestraterisk',\n",
       "  'table_display_name': 'Bond Duration'},\n",
       " {'id': '47',\n",
       "  'table_name': 'pensioncreditrating',\n",
       "  'table_display_name': 'Credit Rating'}]"
      ]
     },
     "execution_count": 5,
     "metadata": {},
     "output_type": "execute_result"
    }
   ],
   "source": [
    "data = response.json()\n",
    "data"
   ]
  },
  {
   "cell_type": "code",
   "execution_count": 6,
   "metadata": {},
   "outputs": [],
   "source": [
    "#Make sure to use QDataset, NOT QDataSet.  Makes a big difference\n",
    "paramsratios = {\n",
    "    \"q\": \"QDataset\",\n",
    "    \"dataset\": \"pensiongasbschedules\",\n",
    "     \"format\": \"json\",\n",
    "    #\"variables\": \n",
    "     #\"v\": variables,\n",
    "}\n",
    "paramsbasicplandata = {\n",
    "    \"q\": \"QDataset\",\n",
    "    \"dataset\": \"pensionplanbasics\",\n",
    "     \"format\": \"json\",\n",
    "    #\"variables\": \n",
    "     #\"v\": ,\n",
    "}\n",
    "\n",
    "paramsbasicinvestperform = {\n",
    "    \"q\": \"QDataset\",\n",
    "    \"dataset\": \"pensioninvestmentperformancedetailed_actl\",\n",
    "     \"format\": \"json\",\n",
    "    #\"variables\": \n",
    "     #\"v\": ,\n",
    "}\n",
    "\n",
    "paramsinvestreturn = {\n",
    "    \"q\": \"QDataset\",\n",
    "    \"dataset\": \"pensioninvestmentreturn\",\n",
    "     \"format\": \"json\",\n",
    "    #\"variables\": \n",
    "     #\"v\": ,\n",
    "}\n",
    "\n",
    "\n",
    "\n",
    "\n",
    "paramsreturnassumptions = {\n",
    "    \"q\": \"QDataset\",\n",
    "    \"dataset\": \"pensiongasbassumptions\",\n",
    "     \"format\": \"json\",\n",
    "    #\"variables\": \n",
    "     #\"v\": ,\n",
    "}\n",
    "\n",
    "\n",
    "paramspenincomestatement = {\n",
    "    \"q\": \"QDataset\",\n",
    "    \"dataset\": \"pensionincomestatement\",\n",
    "     \"format\": \"json\",\n",
    "    #\"variables\": \n",
    "     #\"v\": ,\n",
    "}\n",
    "\n",
    "paramspenactliab = {\n",
    "    \"q\": \"QDataset\",\n",
    "    \"dataset\": \"pensionactuarialliabilities\",\n",
    "     \"format\": \"json\",\n",
    "    #\"variables\": \n",
    "     #\"v\": ,\n",
    "}"
   ]
  },
  {
   "cell_type": "code",
   "execution_count": null,
   "metadata": {},
   "outputs": [],
   "source": [
    "ratiosresponse = requests.get(url, params = paramsratios)\n",
    "#print(ratiosresponse.url)\n",
    "plandataresponse = requests.get(url,params=paramsbasicplandata)\n",
    "investperformresponse = requests.get(url,params=paramsbasicinvestperform)\n",
    "investreturnresponse = requests.get(url,params=paramsinvestreturn)\n",
    "returnassumptionsresponse = requests.get(url,params=paramsreturnassumptions)\n",
    "penincomestatementresponse = requests.get(url,params=paramspenincomestatement)\n",
    "penactliabresponse = requests.get(url,params=paramspenactliab )"
   ]
  },
  {
   "cell_type": "code",
   "execution_count": null,
   "metadata": {},
   "outputs": [],
   "source": [
    "fundedratiosdata = ratiosresponse.json()\n",
    "plandata = plandataresponse.json()\n",
    "investperform = investperformresponse.json()\n",
    "investreturn = investreturnresponse.json()\n",
    "returnassumptions = returnassumptionsresponse.json()\n",
    "penincomestatement=penincomestatementresponse.json()\n",
    "penactliab = penactliabresponse.json()"
   ]
  },
  {
   "cell_type": "code",
   "execution_count": null,
   "metadata": {},
   "outputs": [],
   "source": [
    "funded_ratios_full = pd.DataFrame(fundedratiosdata[1:])\n",
    "plan_data_full = pd.DataFrame(plandata[1:])\n",
    "investperform_data_full=pd.DataFrame(investperform[1:])\n",
    "investreturn_data_full=pd.DataFrame(investreturn[1:])\n",
    "returnassumptions_data_full=pd.DataFrame(returnassumptions[1:])\n",
    "penincomestatement_data_full=pd.DataFrame(penincomestatement[1:])\n",
    "penactliab_data_full=pd.DataFrame(penactliab[1:])"
   ]
  },
  {
   "cell_type": "code",
   "execution_count": null,
   "metadata": {},
   "outputs": [],
   "source": [
    "funded_ratios_full.columns"
   ]
  },
  {
   "cell_type": "code",
   "execution_count": null,
   "metadata": {},
   "outputs": [],
   "source": [
    "#remove rows with empty funded ratio data\n",
    "funded_ratio_df=funded_ratios_full[['ppd_id','fy','ActFundedRatio_GASB','ActFundedRatio_est','PercentReqContPaid']].dropna()\n",
    "funded_ratio_df.shape"
   ]
  },
  {
   "cell_type": "code",
   "execution_count": null,
   "metadata": {},
   "outputs": [],
   "source": [
    "plan_data_full.columns"
   ]
  },
  {
   "cell_type": "code",
   "execution_count": null,
   "metadata": {},
   "outputs": [],
   "source": [
    "plan_data_df=plan_data_full[['ppd_id','PlanName','StateAbbrev','PlanClosed','PlanYearClosed',]]\n",
    "plan_data_df.head()"
   ]
  },
  {
   "cell_type": "code",
   "execution_count": null,
   "metadata": {},
   "outputs": [],
   "source": [
    "plan_test_data_df=pd.merge(funded_ratio_df,plan_data_df,how=\"inner\",on=\"ppd_id\")\n",
    "plan_test_data_df['ActFundedRatio_GASB'] = plan_test_data_df['ActFundedRatio_GASB'].astype(float)\n",
    "plan_test_data_df.shape"
   ]
  },
  {
   "cell_type": "code",
   "execution_count": null,
   "metadata": {},
   "outputs": [],
   "source": [
    "plan_test_data_df.head(50)"
   ]
  },
  {
   "cell_type": "code",
   "execution_count": null,
   "metadata": {},
   "outputs": [],
   "source": [
    "plan_data_2020=plan_test_data_df[(plan_test_data_df['fy']=='2020')]\n",
    "plan_data_2020"
   ]
  },
  {
   "cell_type": "code",
   "execution_count": null,
   "metadata": {},
   "outputs": [],
   "source": [
    "plan_data_2020.sort_values(by='ActFundedRatio_GASB', ascending=True)[0:10]"
   ]
  },
  {
   "cell_type": "code",
   "execution_count": null,
   "metadata": {},
   "outputs": [],
   "source": [
    "plan_data_20yr=plan_test_data_df[(plan_test_data_df['ActFundedRatio_GASB']>=.9)]\n",
    "plan_data_20yr"
   ]
  },
  {
   "cell_type": "code",
   "execution_count": null,
   "metadata": {},
   "outputs": [],
   "source": [
    "#count number of years that each plan was above 90% funded.\n",
    "plan_90plus_counts=plan_data_20yr.groupby(\"PlanName\")[\"fy\"].count()\n",
    "plan_90plus_counts"
   ]
  },
  {
   "cell_type": "code",
   "execution_count": null,
   "metadata": {},
   "outputs": [],
   "source": [
    "#Top 20 plan year counts\n",
    "plan_90plus_counts.sort_values(ascending=False).head(20)"
   ]
  },
  {
   "cell_type": "code",
   "execution_count": null,
   "metadata": {},
   "outputs": [],
   "source": [
    "test_2=investperform_data_full[['ppd_id','PlanName','fy','EQCore_Actl',\n",
    "       'EQDomesticLarge_Actl', 'EQDomesticMid_Actl', 'EQDomesticMisc_Actl',\n",
    "       'EQDomesticSmall_Actl', 'EQGlobalGrowth_Actl', 'EQGlobal_Actl',\n",
    "       'EQIntlActv_Actl', 'EQIntlDev_Actl', 'EQIntlEmerg_Actl']]\n",
    "test_2.dropna(axis=1,how=\"all\")"
   ]
  },
  {
   "cell_type": "code",
   "execution_count": null,
   "metadata": {},
   "outputs": [],
   "source": [
    "investperform_data_full.dropna(axis=1,how=\"all\")"
   ]
  },
  {
   "cell_type": "code",
   "execution_count": null,
   "metadata": {},
   "outputs": [],
   "source": [
    "investperform_data_full.count()"
   ]
  },
  {
   "cell_type": "code",
   "execution_count": null,
   "metadata": {},
   "outputs": [],
   "source": [
    "pd.set_option(\n",
    "    'display.max_rows', 100\n",
    ")"
   ]
  },
  {
   "cell_type": "code",
   "execution_count": null,
   "metadata": {},
   "outputs": [],
   "source": [
    "investreturn_data_full.count()"
   ]
  },
  {
   "cell_type": "code",
   "execution_count": null,
   "metadata": {},
   "outputs": [],
   "source": [
    "returnassumptions_data_full.count()"
   ]
  },
  {
   "cell_type": "code",
   "execution_count": null,
   "metadata": {},
   "outputs": [],
   "source": [
    "penincomestatement_data_full.count()"
   ]
  },
  {
   "cell_type": "code",
   "execution_count": null,
   "metadata": {},
   "outputs": [],
   "source": [
    "penactliab_data_full.count()"
   ]
  }
 ],
 "metadata": {
  "kernelspec": {
   "display_name": "Python 3",
   "language": "python",
   "name": "python3"
  },
  "language_info": {
   "codemirror_mode": {
    "name": "ipython",
    "version": 3
   },
   "file_extension": ".py",
   "mimetype": "text/x-python",
   "name": "python",
   "nbconvert_exporter": "python",
   "pygments_lexer": "ipython3",
   "version": "3.8.5"
  }
 },
 "nbformat": 4,
 "nbformat_minor": 4
}
